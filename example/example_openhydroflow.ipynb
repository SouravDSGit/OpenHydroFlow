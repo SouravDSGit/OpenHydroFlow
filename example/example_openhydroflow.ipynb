{
 "cells": [
  {
   "cell_type": "markdown",
   "metadata": {},
   "source": [
    "# Water Distribution System Modeling and Analysis\n",
    "\n",
    "This notebook walks through a complete water distribution system modeling workflow using the HydroFlow application. We'll cover data collection, processing, network modeling, hydraulic simulation, and visualization of results for a water distribution system in Madison, WI."
   ]
  },
  {
   "cell_type": "markdown",
   "metadata": {},
   "source": [
    "# Adding Project Root to the path"
   ]
  },
  {
   "cell_type": "code",
   "execution_count": 1,
   "metadata": {},
   "outputs": [
    {
     "name": "stdout",
     "output_type": "stream",
     "text": [
      "Project root added to path: /home/smdsgit/SouravDSGit/OpenHydroFlow\n",
      "Current directory: /home/smdsgit/SouravDSGit/OpenHydroFlow/example\n"
     ]
    }
   ],
   "source": [
    "import os\n",
    "import sys\n",
    "# Get the absolute path to the project root\n",
    "project_root = os.path.abspath(os.path.join(os.getcwd(), '..'))\n",
    "# Add the project root to Python's sys.path\n",
    "if project_root not in sys.path:\n",
    "    sys.path.insert(0, project_root)\n",
    "\n",
    "# Now you can import using the original paths\n",
    "# This shows what's in your path\n",
    "print(f\"Project root added to path: {project_root}\")\n",
    "print(f\"Current directory: {os.getcwd()}\")"
   ]
  },
  {
   "cell_type": "markdown",
   "metadata": {},
   "source": [
    "## 1. Setup and Environment Preparation\n",
    "\n",
    "First, let's set up our environment, import necessary libraries, and configure logging."
   ]
  },
  {
   "cell_type": "code",
   "execution_count": 2,
   "metadata": {},
   "outputs": [
    {
     "name": "stdout",
     "output_type": "stream",
     "text": [
      "Project root: /home/smdsgit/SouravDSGit/OpenHydroFlow\n",
      "Created directory: /home/smdsgit/SouravDSGit/OpenHydroFlow/data/raw\n",
      "Created directory: /home/smdsgit/SouravDSGit/OpenHydroFlow/data/processed\n",
      "Created directory: /home/smdsgit/SouravDSGit/OpenHydroFlow/data/output\n",
      "Created directory: /home/smdsgit/SouravDSGit/OpenHydroFlow/epanet\n",
      "Environment setup complete. Directory structure created.\n"
     ]
    }
   ],
   "source": [
    "# Import core libraries\n",
    "import os\n",
    "import logging\n",
    "import pandas as pd\n",
    "import geopandas as gpd\n",
    "import numpy as np\n",
    "import matplotlib.pyplot as plt\n",
    "import json\n",
    "from pathlib import Path\n",
    "import networkx as nx\n",
    "from IPython.display import display, HTML\n",
    "\n",
    "# Setup logging for better visibility in notebook\n",
    "logging.basicConfig(\n",
    "    level=logging.INFO,\n",
    "    format='%(asctime)s - %(name)s - %(levelname)s - %(message)s'\n",
    ")\n",
    "logger = logging.getLogger(__name__)\n",
    "\n",
    "# Get the project root directory\n",
    "project_root = os.path.abspath(os.path.join(os.getcwd(), '..'))\n",
    "\n",
    "# Add project root to Python path for imports\n",
    "import sys\n",
    "if project_root not in sys.path:\n",
    "    sys.path.insert(0, project_root)\n",
    "    \n",
    "print(f\"Project root: {project_root}\")\n",
    "\n",
    "# Create necessary directory structure IN THE PROJECT ROOT\n",
    "data_dirs = [\"data/raw\", \"data/processed\", \"data/output\", \"epanet\"]\n",
    "for directory in data_dirs:\n",
    "    # Use project_root to create directories in the right place\n",
    "    full_path = os.path.join(project_root, directory)\n",
    "    Path(full_path).mkdir(parents=True, exist_ok=True)\n",
    "    print(f\"Created directory: {full_path}\")\n",
    "\n",
    "print(\"Environment setup complete. Directory structure created.\")"
   ]
  },
  {
   "cell_type": "markdown",
   "metadata": {},
   "source": [
    "## 2. Data Collection\n",
    "\n",
    "The first step in water distribution modeling is gathering necessary data. We'll collect:\n",
    "1. Water infrastructure GIS data (water mains, hydrants, pressure zones). \n",
    "    * The open data API documentation is available here : https://data-cityofmadison.opendata.arcgis.com/datasets/cityofmadison::water-main-breaks/about\n",
    "    * For API go here: https://data-cityofmadison.opendata.arcgis.com/datasets/cityofmadison::water-main-breaks/api\n",
    "\n",
    "2. USGS water data for streams and groundwater\n",
    "3. EPA water quality data\n",
    "4. Elevation data\n",
    "\n",
    "Let's import our data collection module and collect the required data:"
   ]
  },
  {
   "cell_type": "markdown",
   "metadata": {},
   "source": [
    "### 2.1 Water Infrastructure GIS Data"
   ]
  },
  {
   "cell_type": "code",
   "execution_count": 5,
   "metadata": {},
   "outputs": [
    {
     "name": "stderr",
     "output_type": "stream",
     "text": [
      "2025-04-01 14:15:38,981 - src.data_collection - INFO - EPA API key not provided. Using public access endpoints.\n",
      "2025-04-01 14:15:38,982 - src.data_collection - INFO - USGS API key not provided. Using public access endpoints.\n",
      "2025-04-01 14:15:38,983 - src.data_collection - INFO - Fetching Madison water infrastructure GIS data...\n",
      "2025-04-01 14:15:38,985 - src.data_collection - INFO - Downloading water main breaks from: https://maps.cityofmadison.com/arcgis/rest/services/Public/OPEN_DATA/MapServer/5/query?outFields=OBJECTID,pipe_type,pipe_mslink,pipe_size,MainID,AssetNumber,FacilityID,pipe_depth_ft&where=1%3D1&f=geojson\n"
     ]
    },
    {
     "name": "stdout",
     "output_type": "stream",
     "text": [
      "Collecting Madison water infrastructure GIS data...\n"
     ]
    },
    {
     "name": "stderr",
     "output_type": "stream",
     "text": [
      "2025-04-01 14:15:39,861 - pyogrio._io - INFO - Created 1,000 records\n",
      "2025-04-01 14:15:39,862 - src.data_collection - INFO - Successfully downloaded 1000 water main records\n"
     ]
    },
    {
     "ename": "AttributeError",
     "evalue": "'DataCollector' object has no attribute '_create_sample_gis_data'",
     "output_type": "error",
     "traceback": [
      "\u001b[0;31m---------------------------------------------------------------------------\u001b[0m",
      "\u001b[0;31mAttributeError\u001b[0m                            Traceback (most recent call last)",
      "Cell \u001b[0;32mIn[5], line 9\u001b[0m\n\u001b[1;32m      7\u001b[0m \u001b[38;5;66;03m# Fetch Madison water infrastructure GIS data\u001b[39;00m\n\u001b[1;32m      8\u001b[0m \u001b[38;5;28mprint\u001b[39m(\u001b[38;5;124m\"\u001b[39m\u001b[38;5;124mCollecting Madison water infrastructure GIS data...\u001b[39m\u001b[38;5;124m\"\u001b[39m)\n\u001b[0;32m----> 9\u001b[0m gis_data \u001b[38;5;241m=\u001b[39m \u001b[43mcollector\u001b[49m\u001b[38;5;241;43m.\u001b[39;49m\u001b[43mfetch_madison_water_gis\u001b[49m\u001b[43m(\u001b[49m\u001b[43m)\u001b[49m\n\u001b[1;32m     11\u001b[0m \u001b[38;5;66;03m# Display summary of GIS data collection results\u001b[39;00m\n\u001b[1;32m     12\u001b[0m \u001b[38;5;28;01mif\u001b[39;00m gis_data:\n",
      "File \u001b[0;32m~/SouravDSGit/OpenHydroFlow/src/data_collection.py:126\u001b[0m, in \u001b[0;36mDataCollector.fetch_madison_water_gis\u001b[0;34m(self)\u001b[0m\n\u001b[1;32m    123\u001b[0m         logger\u001b[38;5;241m.\u001b[39minfo(\u001b[38;5;124mf\u001b[39m\u001b[38;5;124m\"\u001b[39m\u001b[38;5;124mCreated \u001b[39m\u001b[38;5;132;01m{\u001b[39;00m\u001b[38;5;28mlen\u001b[39m(results[\u001b[38;5;124m'\u001b[39m\u001b[38;5;124mwater_mains\u001b[39m\u001b[38;5;124m'\u001b[39m])\u001b[38;5;132;01m}\u001b[39;00m\u001b[38;5;124m sample water main records\u001b[39m\u001b[38;5;124m\"\u001b[39m)\n\u001b[1;32m    125\u001b[0m \u001b[38;5;66;03m# Similarly use sample data for hydrants and pressure zones for now\u001b[39;00m\n\u001b[0;32m--> 126\u001b[0m sample_data \u001b[38;5;241m=\u001b[39m \u001b[38;5;28;43mself\u001b[39;49m\u001b[38;5;241;43m.\u001b[39;49m\u001b[43m_create_sample_gis_data\u001b[49m()\n\u001b[1;32m    128\u001b[0m \u001b[38;5;28;01mif\u001b[39;00m \u001b[38;5;124m\"\u001b[39m\u001b[38;5;124mhydrants\u001b[39m\u001b[38;5;124m\"\u001b[39m \u001b[38;5;129;01mnot\u001b[39;00m \u001b[38;5;129;01min\u001b[39;00m results:\n\u001b[1;32m    129\u001b[0m     results[\u001b[38;5;124m\"\u001b[39m\u001b[38;5;124mhydrants\u001b[39m\u001b[38;5;124m\"\u001b[39m] \u001b[38;5;241m=\u001b[39m sample_data[\u001b[38;5;124m\"\u001b[39m\u001b[38;5;124mhydrants\u001b[39m\u001b[38;5;124m\"\u001b[39m]\n",
      "\u001b[0;31mAttributeError\u001b[0m: 'DataCollector' object has no attribute '_create_sample_gis_data'"
     ]
    }
   ],
   "source": [
    "# Import the DataCollector class\n",
    "from src.data_collection import DataCollector\n",
    "\n",
    "# Create an instance of the DataCollector\n",
    "collector = DataCollector()\n",
    "\n",
    "# Fetch Madison water infrastructure GIS data\n",
    "print(\"Collecting Madison water infrastructure GIS data...\")\n",
    "gis_data = collector.fetch_madison_water_gis()\n",
    "\n",
    "# Display summary of GIS data collection results\n",
    "if gis_data:\n",
    "    print(\"\\nGIS Data Collection Results:\")\n",
    "    for key, gdf in gis_data.items():\n",
    "        if isinstance(gdf, gpd.GeoDataFrame):\n",
    "            print(f\"- {key}: {len(gdf)} features\")\n",
    "            # Show first few rows of each dataset\n",
    "            display(gdf.head(2))"
   ]
  },
  {
   "cell_type": "markdown",
   "metadata": {},
   "source": [
    "### 2.2 USGS Water Data\n",
    "\n",
    "Now, let's fetch USGS water data for the Madison area:"
   ]
  },
  {
   "cell_type": "code",
   "execution_count": 73,
   "metadata": {},
   "outputs": [
    {
     "name": "stderr",
     "output_type": "stream",
     "text": [
      "2025-04-01 14:05:08,616 - src.data_collection - INFO - Fetching USGS water data for the past 30 days...\n",
      "2025-04-01 14:05:08,617 - src.data_collection - INFO - Identifying USGS water monitoring sites in Madison area...\n"
     ]
    },
    {
     "name": "stdout",
     "output_type": "stream",
     "text": [
      "Collecting USGS water data...\n"
     ]
    },
    {
     "name": "stderr",
     "output_type": "stream",
     "text": [
      "2025-04-01 14:05:09,026 - src.data_collection - WARNING - First method failed: Bad Request, check that your parameters are correct. URL: https://waterservices.usgs.gov/nwis/iv?format=json&bBox=-89.5417%2C43.0233%2C-89.2349%2C43.171&siteType=ST%2CGW&hasDataTypeCd=dv&siteStatus=active&startDT=site\n",
      "2025-04-01 14:05:09,028 - src.data_collection - ERROR - Fallback method also failed: Query must specify a major filter: sites, stateCd, bBox, huc, or countyCd\n",
      "2025-04-01 14:05:09,030 - src.data_collection - INFO - Creating sample USGS site data for Madison, WI...\n",
      "2025-04-01 14:05:09,035 - src.data_collection - INFO - Created sample site data as fallback.\n",
      "2025-04-01 14:05:09,043 - src.data_collection - INFO - Retrieving streamflow data for test sites: ['5430500', '5430501', '5430502']\n",
      "2025-04-01 14:05:09,303 - src.data_collection - WARNING - Error getting streamflow data: Bad Request, check that your parameters are correct. URL: https://waterservices.usgs.gov/nwis/dv?format=json&parameterCd=00060&startDT=2025-03-02&endDT=2025-04-01&sites=5430500%2C5430501%2C5430502\n",
      "2025-04-01 14:05:09,304 - src.data_collection - INFO - Creating sample streamflow data...\n"
     ]
    },
    {
     "name": "stdout",
     "output_type": "stream",
     "text": [
      "\n",
      "USGS Data Collection Results:\n",
      "- streamflow: 155 records\n"
     ]
    },
    {
     "data": {
      "text/html": [
       "<div>\n",
       "<style scoped>\n",
       "    .dataframe tbody tr th:only-of-type {\n",
       "        vertical-align: middle;\n",
       "    }\n",
       "\n",
       "    .dataframe tbody tr th {\n",
       "        vertical-align: top;\n",
       "    }\n",
       "\n",
       "    .dataframe thead th {\n",
       "        text-align: right;\n",
       "    }\n",
       "</style>\n",
       "<table border=\"1\" class=\"dataframe\">\n",
       "  <thead>\n",
       "    <tr style=\"text-align: right;\">\n",
       "      <th></th>\n",
       "      <th>site_no</th>\n",
       "      <th>datetime</th>\n",
       "      <th>value</th>\n",
       "      <th>parameter_cd</th>\n",
       "      <th>qualifier_cd</th>\n",
       "      <th>agency_cd</th>\n",
       "    </tr>\n",
       "  </thead>\n",
       "  <tbody>\n",
       "    <tr>\n",
       "      <th>0</th>\n",
       "      <td>5430500</td>\n",
       "      <td>2025-03-02 14:05:08.617873</td>\n",
       "      <td>27.881825</td>\n",
       "      <td>00060</td>\n",
       "      <td></td>\n",
       "      <td>USGS</td>\n",
       "    </tr>\n",
       "    <tr>\n",
       "      <th>1</th>\n",
       "      <td>5430500</td>\n",
       "      <td>2025-03-03 14:05:08.617873</td>\n",
       "      <td>77.441126</td>\n",
       "      <td>00060</td>\n",
       "      <td></td>\n",
       "      <td>USGS</td>\n",
       "    </tr>\n",
       "  </tbody>\n",
       "</table>\n",
       "</div>"
      ],
      "text/plain": [
       "   site_no                   datetime      value parameter_cd qualifier_cd  \\\n",
       "0  5430500 2025-03-02 14:05:08.617873  27.881825        00060                \n",
       "1  5430500 2025-03-03 14:05:08.617873  77.441126        00060                \n",
       "\n",
       "  agency_cd  \n",
       "0      USGS  \n",
       "1      USGS  "
      ]
     },
     "metadata": {},
     "output_type": "display_data"
    }
   ],
   "source": [
    "# Fetch USGS water data (streams and groundwater)\n",
    "print(\"Collecting USGS water data...\")\n",
    "usgs_data = collector.fetch_usgs_water_data(days=30)\n",
    "\n",
    "# Display summary of USGS data collection results\n",
    "if usgs_data:\n",
    "    print(\"\\nUSGS Data Collection Results:\")\n",
    "    for key, df in usgs_data.items():\n",
    "        if isinstance(df, pd.DataFrame):\n",
    "            print(f\"- {key}: {len(df)} records\")\n",
    "            # Show first few rows\n",
    "            display(df.head(2))"
   ]
  },
  {
   "cell_type": "markdown",
   "metadata": {},
   "source": [
    "### 2.3 EPA Water Quality Data\n",
    "\n",
    "Next, we'll collect EPA water quality data:"
   ]
  },
  {
   "cell_type": "code",
   "execution_count": 49,
   "metadata": {},
   "outputs": [
    {
     "name": "stderr",
     "output_type": "stream",
     "text": [
      "2025-04-01 13:49:13,947 - src.data_collection - INFO - Fetching EPA water quality data...\n",
      "2025-04-01 13:49:13,948 - src.data_collection - INFO - Trying to fetch EPA data from: https://enviro.epa.gov/efservice/SDW_WATER_SYSTEM/PRIMACY_AGENCY_CODE/WI/CITY_NAME/MADISON/JSON\n"
     ]
    },
    {
     "name": "stdout",
     "output_type": "stream",
     "text": [
      "Collecting EPA water quality data...\n"
     ]
    },
    {
     "name": "stderr",
     "output_type": "stream",
     "text": [
      "2025-04-01 13:49:19,390 - src.data_collection - WARNING - EPA API request failed (attempt 1/3): Expecting value: line 1 column 1 (char 0)\n",
      "2025-04-01 13:49:20,391 - src.data_collection - INFO - Trying to fetch EPA data from: https://enviro.epa.gov/efservice/SDW_WATER_SYSTEM/PRIMACY_AGENCY_CODE/WI/CITY_NAME/MADISON/JSON\n",
      "2025-04-01 13:49:20,630 - src.data_collection - WARNING - EPA API request failed (attempt 2/3): Expecting value: line 1 column 1 (char 0)\n",
      "2025-04-01 13:49:22,632 - src.data_collection - INFO - Trying to fetch EPA data from: https://enviro.epa.gov/efservice/SDW_WATER_SYSTEM/PRIMACY_AGENCY_CODE/WI/CITY_NAME/MADISON/JSON\n",
      "2025-04-01 13:49:22,830 - src.data_collection - WARNING - EPA API request failed (attempt 3/3): Expecting value: line 1 column 1 (char 0)\n",
      "2025-04-01 13:49:22,832 - src.data_collection - ERROR - All attempts failed for https://enviro.epa.gov/efservice/SDW_WATER_SYSTEM/PRIMACY_AGENCY_CODE/WI/CITY_NAME/MADISON/JSON\n",
      "2025-04-01 13:49:25,834 - src.data_collection - INFO - Trying to fetch EPA data from: https://enviro.epa.gov/enviro/efservice/SDW_WATER_SYSTEM/PRIMACY_AGENCY_CODE/WI/CITY_NAME/MADISON/JSON\n",
      "2025-04-01 13:49:27,310 - src.data_collection - WARNING - EPA API request failed (attempt 1/3): 404 Client Error: NOT FOUND for url: https://data.epa.gov/efservice/SDW_WATER_SYSTEM/PRIMACY_AGENCY_CODE/WI/CITY_NAME/MADISON/JSON\n",
      "2025-04-01 13:49:28,316 - src.data_collection - INFO - Trying to fetch EPA data from: https://enviro.epa.gov/enviro/efservice/SDW_WATER_SYSTEM/PRIMACY_AGENCY_CODE/WI/CITY_NAME/MADISON/JSON\n",
      "2025-04-01 13:49:29,696 - src.data_collection - WARNING - EPA API request failed (attempt 2/3): 404 Client Error: NOT FOUND for url: https://data.epa.gov/efservice/SDW_WATER_SYSTEM/PRIMACY_AGENCY_CODE/WI/CITY_NAME/MADISON/JSON\n",
      "2025-04-01 13:49:31,698 - src.data_collection - INFO - Trying to fetch EPA data from: https://enviro.epa.gov/enviro/efservice/SDW_WATER_SYSTEM/PRIMACY_AGENCY_CODE/WI/CITY_NAME/MADISON/JSON\n",
      "2025-04-01 13:49:33,081 - src.data_collection - WARNING - EPA API request failed (attempt 3/3): 404 Client Error: NOT FOUND for url: https://data.epa.gov/efservice/SDW_WATER_SYSTEM/PRIMACY_AGENCY_CODE/WI/CITY_NAME/MADISON/JSON\n",
      "2025-04-01 13:49:33,083 - src.data_collection - ERROR - All attempts failed for https://enviro.epa.gov/enviro/efservice/SDW_WATER_SYSTEM/PRIMACY_AGENCY_CODE/WI/CITY_NAME/MADISON/JSON\n",
      "2025-04-01 13:49:36,086 - src.data_collection - WARNING - All EPA API requests failed. Creating sample data.\n",
      "2025-04-01 13:49:36,088 - src.data_collection - INFO - Creating sample EPA water quality data for Madison, WI...\n",
      "2025-04-01 13:49:36,096 - src.data_collection - INFO - EPA water system data retrieved/created successfully.\n"
     ]
    },
    {
     "name": "stdout",
     "output_type": "stream",
     "text": [
      "\n",
      "EPA Water Quality Data: 3 water systems\n"
     ]
    },
    {
     "data": {
      "text/html": [
       "<div>\n",
       "<style scoped>\n",
       "    .dataframe tbody tr th:only-of-type {\n",
       "        vertical-align: middle;\n",
       "    }\n",
       "\n",
       "    .dataframe tbody tr th {\n",
       "        vertical-align: top;\n",
       "    }\n",
       "\n",
       "    .dataframe thead th {\n",
       "        text-align: right;\n",
       "    }\n",
       "</style>\n",
       "<table border=\"1\" class=\"dataframe\">\n",
       "  <thead>\n",
       "    <tr style=\"text-align: right;\">\n",
       "      <th></th>\n",
       "      <th>PWSID</th>\n",
       "      <th>PWS_NAME</th>\n",
       "      <th>CITY_NAME</th>\n",
       "      <th>STATE_CODE</th>\n",
       "      <th>SOURCE_WATER</th>\n",
       "      <th>POPULATION_SERVED_COUNT</th>\n",
       "      <th>PRIMARY_SOURCE_CODE</th>\n",
       "      <th>PRIMARY_SOURCE</th>\n",
       "      <th>EPA_REGION</th>\n",
       "    </tr>\n",
       "  </thead>\n",
       "  <tbody>\n",
       "    <tr>\n",
       "      <th>0</th>\n",
       "      <td>WI5502001</td>\n",
       "      <td>MADISON WATER UTILITY 1</td>\n",
       "      <td>MADISON</td>\n",
       "      <td>WI</td>\n",
       "      <td>GW</td>\n",
       "      <td>250000</td>\n",
       "      <td>GW</td>\n",
       "      <td>Ground water</td>\n",
       "      <td>05</td>\n",
       "    </tr>\n",
       "    <tr>\n",
       "      <th>1</th>\n",
       "      <td>WI5502002</td>\n",
       "      <td>MADISON WATER UTILITY 2</td>\n",
       "      <td>MADISON</td>\n",
       "      <td>WI</td>\n",
       "      <td>GW</td>\n",
       "      <td>240000</td>\n",
       "      <td>GW</td>\n",
       "      <td>Ground water</td>\n",
       "      <td>05</td>\n",
       "    </tr>\n",
       "  </tbody>\n",
       "</table>\n",
       "</div>"
      ],
      "text/plain": [
       "       PWSID                 PWS_NAME CITY_NAME STATE_CODE SOURCE_WATER  \\\n",
       "0  WI5502001  MADISON WATER UTILITY 1   MADISON         WI           GW   \n",
       "1  WI5502002  MADISON WATER UTILITY 2   MADISON         WI           GW   \n",
       "\n",
       "   POPULATION_SERVED_COUNT PRIMARY_SOURCE_CODE PRIMARY_SOURCE EPA_REGION  \n",
       "0                   250000                  GW   Ground water         05  \n",
       "1                   240000                  GW   Ground water         05  "
      ]
     },
     "metadata": {},
     "output_type": "display_data"
    }
   ],
   "source": [
    "# Fetch EPA water quality data\n",
    "print(\"Collecting EPA water quality data...\")\n",
    "epa_data = collector.fetch_epa_water_quality()\n",
    "\n",
    "# Display summary of EPA data collection\n",
    "if isinstance(epa_data, pd.DataFrame):\n",
    "    print(f\"\\nEPA Water Quality Data: {len(epa_data)} water systems\")\n",
    "    display(epa_data.head(2))"
   ]
  },
  {
   "cell_type": "markdown",
   "metadata": {},
   "source": [
    "### 2.4 Elevation Data\n",
    "\n",
    "Finally, let's collect elevation data for the Madison area:"
   ]
  },
  {
   "cell_type": "code",
   "execution_count": 50,
   "metadata": {},
   "outputs": [
    {
     "name": "stderr",
     "output_type": "stream",
     "text": [
      "2025-04-01 13:49:36,135 - src.data_collection - INFO - Fetching elevation data for Madison area...\n",
      "2025-04-01 13:49:36,137 - src.data_collection - INFO - Trying dataset: Digital Elevation Model (DEM) 1/3 arc-second\n",
      "2025-04-01 13:49:36,283 - src.data_collection - WARNING - No elevation data found for dataset: Digital Elevation Model (DEM) 1/3 arc-second\n",
      "2025-04-01 13:49:36,286 - src.data_collection - INFO - Trying dataset: Digital Elevation Model (DEM) 1 arc-second\n"
     ]
    },
    {
     "name": "stdout",
     "output_type": "stream",
     "text": [
      "Collecting elevation data...\n"
     ]
    },
    {
     "name": "stderr",
     "output_type": "stream",
     "text": [
      "2025-04-01 13:49:36,359 - src.data_collection - WARNING - No elevation data found for dataset: Digital Elevation Model (DEM) 1 arc-second\n",
      "2025-04-01 13:49:36,361 - src.data_collection - INFO - Trying dataset: Digital Elevation Model (DEM) 1 meter\n",
      "2025-04-01 13:49:36,426 - src.data_collection - WARNING - No elevation data found for dataset: Digital Elevation Model (DEM) 1 meter\n",
      "2025-04-01 13:49:36,427 - src.data_collection - WARNING - Could not download elevation data from any source. Creating sample elevation data.\n",
      "2025-04-01 13:49:36,441 - src.data_collection - INFO - Created sample elevation data as fallback.\n"
     ]
    },
    {
     "name": "stdout",
     "output_type": "stream",
     "text": [
      "\n",
      "Elevation data saved to: data/raw/madison_elevation.tif\n"
     ]
    }
   ],
   "source": [
    "# Fetch elevation data\n",
    "print(\"Collecting elevation data...\")\n",
    "elevation_path = collector.fetch_elevation_data()\n",
    "\n",
    "if elevation_path:\n",
    "    print(f\"\\nElevation data saved to: {elevation_path}\")"
   ]
  },
  {
   "cell_type": "markdown",
   "metadata": {},
   "source": [
    "### 2.5 Complete Data Collection Summary\n",
    "\n",
    "Let's fetch all data at once and summarize the results:"
   ]
  },
  {
   "cell_type": "code",
   "execution_count": 51,
   "metadata": {},
   "outputs": [
    {
     "name": "stderr",
     "output_type": "stream",
     "text": [
      "2025-04-01 13:49:36,458 - src.data_collection - INFO - Starting complete data collection for Madison, WI...\n",
      "2025-04-01 13:49:36,460 - src.data_collection - INFO - Fetching Madison water infrastructure GIS data...\n",
      "2025-04-01 13:49:36,461 - src.data_collection - INFO - Downloading water main breaks from: https://maps.cityofmadison.com/arcgis/rest/services/Public/OPEN_DATA/MapServer/5/query?outFields=OBJECTID,pipe_type,pipe_mslink,pipe_size,MainID,AssetNumber,FacilityID,pipe_depth_ft&where=1%3D1&f=geojson\n",
      "2025-04-01 13:49:37,393 - pyogrio._io - INFO - Created 1,000 records\n",
      "2025-04-01 13:49:37,393 - src.data_collection - INFO - Successfully downloaded 1000 water main records\n",
      "2025-04-01 13:49:37,394 - src.data_collection - INFO - Creating sample GIS data for Madison, WI...\n",
      "2025-04-01 13:49:37,398 - pyogrio._io - INFO - Created 10 records\n",
      "2025-04-01 13:49:37,402 - pyogrio._io - INFO - Created 8 records\n",
      "2025-04-01 13:49:37,406 - pyogrio._io - INFO - Created 2 records\n",
      "2025-04-01 13:49:37,408 - pyogrio._io - INFO - Created 8 records\n",
      "2025-04-01 13:49:37,409 - src.data_collection - INFO - Using sample data for hydrants: 8 records\n",
      "2025-04-01 13:49:37,411 - pyogrio._io - INFO - Created 2 records\n",
      "2025-04-01 13:49:37,412 - src.data_collection - INFO - Using sample data for pressure zones: 2 records\n",
      "2025-04-01 13:49:37,412 - src.data_collection - INFO - Madison GIS data available: water_mains, hydrants, pressure_zones\n",
      "2025-04-01 13:49:37,412 - src.data_collection - INFO - Fetching USGS water data for the past 30 days...\n",
      "2025-04-01 13:49:37,413 - src.data_collection - INFO - Identifying USGS water monitoring sites in Madison area...\n",
      "2025-04-01 13:49:37,729 - src.data_collection - WARNING - First method failed: Bad Request, check that your parameters are correct. URL: https://waterservices.usgs.gov/nwis/iv?format=json&bBox=-89.5417%2C43.0233%2C-89.2349%2C43.171&siteType=ST%2CGW&hasDataTypeCd=dv&siteStatus=active&startDT=site\n",
      "2025-04-01 13:49:37,730 - src.data_collection - ERROR - Fallback method also failed: Query must specify a major filter: sites, stateCd, bBox, huc, or countyCd\n",
      "2025-04-01 13:49:37,732 - src.data_collection - INFO - Creating sample USGS site data for Madison, WI...\n",
      "2025-04-01 13:49:37,737 - src.data_collection - INFO - Created sample site data as fallback.\n",
      "2025-04-01 13:49:37,744 - src.data_collection - INFO - Retrieving streamflow data for test sites: ['5430500', '5430501', '5430502']\n",
      "2025-04-01 13:49:37,898 - src.data_collection - WARNING - Error getting streamflow data: Bad Request, check that your parameters are correct. URL: https://waterservices.usgs.gov/nwis/dv?format=json&parameterCd=00060&startDT=2025-03-02&endDT=2025-04-01&sites=5430500%2C5430501%2C5430502\n",
      "2025-04-01 13:49:37,901 - src.data_collection - INFO - Creating sample streamflow data...\n",
      "2025-04-01 13:49:37,921 - src.data_collection - INFO - Fetching EPA water quality data...\n",
      "2025-04-01 13:49:37,922 - src.data_collection - INFO - Trying to fetch EPA data from: https://enviro.epa.gov/efservice/SDW_WATER_SYSTEM/PRIMACY_AGENCY_CODE/WI/CITY_NAME/MADISON/JSON\n",
      "2025-04-01 13:49:38,319 - src.data_collection - WARNING - EPA API request failed (attempt 1/3): Expecting value: line 1 column 1 (char 0)\n",
      "2025-04-01 13:49:39,322 - src.data_collection - INFO - Trying to fetch EPA data from: https://enviro.epa.gov/efservice/SDW_WATER_SYSTEM/PRIMACY_AGENCY_CODE/WI/CITY_NAME/MADISON/JSON\n",
      "2025-04-01 13:49:39,502 - src.data_collection - WARNING - EPA API request failed (attempt 2/3): Expecting value: line 1 column 1 (char 0)\n",
      "2025-04-01 13:49:41,504 - src.data_collection - INFO - Trying to fetch EPA data from: https://enviro.epa.gov/efservice/SDW_WATER_SYSTEM/PRIMACY_AGENCY_CODE/WI/CITY_NAME/MADISON/JSON\n",
      "2025-04-01 13:49:41,746 - src.data_collection - WARNING - EPA API request failed (attempt 3/3): Expecting value: line 1 column 1 (char 0)\n",
      "2025-04-01 13:49:41,748 - src.data_collection - ERROR - All attempts failed for https://enviro.epa.gov/efservice/SDW_WATER_SYSTEM/PRIMACY_AGENCY_CODE/WI/CITY_NAME/MADISON/JSON\n",
      "2025-04-01 13:49:44,749 - src.data_collection - INFO - Trying to fetch EPA data from: https://enviro.epa.gov/enviro/efservice/SDW_WATER_SYSTEM/PRIMACY_AGENCY_CODE/WI/CITY_NAME/MADISON/JSON\n",
      "2025-04-01 13:49:46,293 - src.data_collection - WARNING - EPA API request failed (attempt 1/3): 404 Client Error: NOT FOUND for url: https://data.epa.gov/efservice/SDW_WATER_SYSTEM/PRIMACY_AGENCY_CODE/WI/CITY_NAME/MADISON/JSON\n",
      "2025-04-01 13:49:47,295 - src.data_collection - INFO - Trying to fetch EPA data from: https://enviro.epa.gov/enviro/efservice/SDW_WATER_SYSTEM/PRIMACY_AGENCY_CODE/WI/CITY_NAME/MADISON/JSON\n",
      "2025-04-01 13:49:49,054 - src.data_collection - WARNING - EPA API request failed (attempt 2/3): 404 Client Error: NOT FOUND for url: https://data.epa.gov/efservice/SDW_WATER_SYSTEM/PRIMACY_AGENCY_CODE/WI/CITY_NAME/MADISON/JSON\n",
      "2025-04-01 13:49:51,055 - src.data_collection - INFO - Trying to fetch EPA data from: https://enviro.epa.gov/enviro/efservice/SDW_WATER_SYSTEM/PRIMACY_AGENCY_CODE/WI/CITY_NAME/MADISON/JSON\n",
      "2025-04-01 13:49:52,648 - src.data_collection - WARNING - EPA API request failed (attempt 3/3): 404 Client Error: NOT FOUND for url: https://data.epa.gov/efservice/SDW_WATER_SYSTEM/PRIMACY_AGENCY_CODE/WI/CITY_NAME/MADISON/JSON\n",
      "2025-04-01 13:49:52,650 - src.data_collection - ERROR - All attempts failed for https://enviro.epa.gov/enviro/efservice/SDW_WATER_SYSTEM/PRIMACY_AGENCY_CODE/WI/CITY_NAME/MADISON/JSON\n",
      "2025-04-01 13:49:55,652 - src.data_collection - WARNING - All EPA API requests failed. Creating sample data.\n",
      "2025-04-01 13:49:55,654 - src.data_collection - INFO - Creating sample EPA water quality data for Madison, WI...\n",
      "2025-04-01 13:49:55,662 - src.data_collection - INFO - EPA water system data retrieved/created successfully.\n",
      "2025-04-01 13:49:55,666 - src.data_collection - INFO - Fetching elevation data for Madison area...\n",
      "2025-04-01 13:49:55,668 - src.data_collection - INFO - Trying dataset: Digital Elevation Model (DEM) 1/3 arc-second\n",
      "2025-04-01 13:49:55,743 - src.data_collection - WARNING - No elevation data found for dataset: Digital Elevation Model (DEM) 1/3 arc-second\n",
      "2025-04-01 13:49:55,744 - src.data_collection - INFO - Trying dataset: Digital Elevation Model (DEM) 1 arc-second\n",
      "2025-04-01 13:49:55,808 - src.data_collection - WARNING - No elevation data found for dataset: Digital Elevation Model (DEM) 1 arc-second\n",
      "2025-04-01 13:49:55,810 - src.data_collection - INFO - Trying dataset: Digital Elevation Model (DEM) 1 meter\n",
      "2025-04-01 13:49:55,900 - src.data_collection - WARNING - No elevation data found for dataset: Digital Elevation Model (DEM) 1 meter\n",
      "2025-04-01 13:49:55,902 - src.data_collection - WARNING - Could not download elevation data from any source. Creating sample elevation data.\n",
      "2025-04-01 13:49:55,916 - src.data_collection - INFO - Created sample elevation data as fallback.\n",
      "2025-04-01 13:49:55,920 - src.data_collection - INFO - Data collection complete.\n"
     ]
    },
    {
     "name": "stdout",
     "output_type": "stream",
     "text": [
      "Summary of all collected data:\n",
      "\n",
      "GIS:\n",
      "  - water_mains: 1000 features\n",
      "  - hydrants: 8 features\n",
      "  - pressure_zones: 2 features\n",
      "\n",
      "USGS:\n",
      "  - streamflow: 155 records\n",
      "\n",
      "EPA:\n",
      "  - Water systems: 3 records\n",
      "\n",
      "ELEVATION:\n",
      "  - Elevation data: data/raw/madison_elevation.tif\n"
     ]
    }
   ],
   "source": [
    "# Fetch all data at once\n",
    "all_data = collector.fetch_all_data()\n",
    "\n",
    "# Provide a summary of all collected data\n",
    "print(\"Summary of all collected data:\")\n",
    "for category, data in all_data.items():\n",
    "    print(f\"\\n{category.upper()}:\")\n",
    "    if category == 'gis':\n",
    "        for layer_name, layer_data in data.items():\n",
    "            if isinstance(layer_data, gpd.GeoDataFrame):\n",
    "                print(f\"  - {layer_name}: {len(layer_data)} features\")\n",
    "    elif category == 'usgs':\n",
    "        for dataset, dataset_data in data.items():\n",
    "            if isinstance(dataset_data, pd.DataFrame):\n",
    "                print(f\"  - {dataset}: {len(dataset_data)} records\")\n",
    "    elif category == 'epa':\n",
    "        if isinstance(data, pd.DataFrame):\n",
    "            print(f\"  - Water systems: {len(data)} records\")\n",
    "    elif category == 'elevation':\n",
    "        print(f\"  - Elevation data: {data}\")"
   ]
  },
  {
   "cell_type": "markdown",
   "metadata": {},
   "source": [
    "## 3. Data Processing\n",
    "\n",
    "After collecting the raw data, we need to process it for use in our water distribution model. This includes:\n",
    "1. Cleaning water mains data\n",
    "2. Processing hydrants\n",
    "3. Processing pressure zones\n",
    "4. Extracting elevation data for junctions\n",
    "5. Creating an EPANET network model\n",
    "\n",
    "Let's import our data processing module and process the data:"
   ]
  },
  {
   "cell_type": "markdown",
   "metadata": {},
   "source": [
    "### 3.1 Processing Water mains data"
   ]
  },
  {
   "cell_type": "code",
   "execution_count": 75,
   "metadata": {},
   "outputs": [
    {
     "name": "stderr",
     "output_type": "stream",
     "text": [
      "2025-04-01 14:06:13,523 - src.data_processing - INFO - Cleaning water mains data...\n",
      "2025-04-01 14:06:13,529 - src.data_processing - INFO - Original water mains data: 10 rows\n",
      "2025-04-01 14:06:13,532 - src.data_processing - ERROR - Error processing water mains data: 'material'\n"
     ]
    },
    {
     "name": "stdout",
     "output_type": "stream",
     "text": [
      "Processing water mains data...\n"
     ]
    }
   ],
   "source": [
    "# Import the DataProcessor class\n",
    "from src.data_processing import DataProcessor\n",
    "\n",
    "# Create an instance of the DataProcessor\n",
    "processor = DataProcessor()\n",
    "\n",
    "# Clean and prepare water mains data\n",
    "print(\"Processing water mains data...\")\n",
    "water_mains = processor.clean_water_mains()\n",
    "\n",
    "if isinstance(water_mains, gpd.GeoDataFrame):\n",
    "    print(f\"\\nProcessed water mains: {len(water_mains)} pipes\")\n",
    "    display(water_mains.head(2))"
   ]
  },
  {
   "cell_type": "markdown",
   "metadata": {},
   "source": [
    "### 3.2 Processing Hydrants and Pressure Zones"
   ]
  },
  {
   "cell_type": "code",
   "execution_count": 61,
   "metadata": {},
   "outputs": [
    {
     "name": "stderr",
     "output_type": "stream",
     "text": [
      "2025-04-01 13:50:47,274 - src.data_processing - INFO - Processing hydrants data...\n",
      "2025-04-01 13:50:47,283 - pyogrio._io - INFO - Created 8 records\n",
      "2025-04-01 13:50:47,284 - src.data_processing - INFO - Hydrants data processed: 8 hydrants\n"
     ]
    },
    {
     "name": "stdout",
     "output_type": "stream",
     "text": [
      "Processing hydrants data...\n",
      "\n",
      "Processed hydrants: 8 hydrants\n"
     ]
    },
    {
     "data": {
      "text/html": [
       "<div>\n",
       "<style scoped>\n",
       "    .dataframe tbody tr th:only-of-type {\n",
       "        vertical-align: middle;\n",
       "    }\n",
       "\n",
       "    .dataframe tbody tr th {\n",
       "        vertical-align: top;\n",
       "    }\n",
       "\n",
       "    .dataframe thead th {\n",
       "        text-align: right;\n",
       "    }\n",
       "</style>\n",
       "<table border=\"1\" class=\"dataframe\">\n",
       "  <thead>\n",
       "    <tr style=\"text-align: right;\">\n",
       "      <th></th>\n",
       "      <th>id</th>\n",
       "      <th>status</th>\n",
       "      <th>geometry</th>\n",
       "      <th>hydrant_id</th>\n",
       "    </tr>\n",
       "  </thead>\n",
       "  <tbody>\n",
       "    <tr>\n",
       "      <th>0</th>\n",
       "      <td>H0</td>\n",
       "      <td>Active</td>\n",
       "      <td>POINT (-89.4412 43.0331)</td>\n",
       "      <td>h1</td>\n",
       "    </tr>\n",
       "    <tr>\n",
       "      <th>1</th>\n",
       "      <td>H1</td>\n",
       "      <td>Active</td>\n",
       "      <td>POINT (-89.4162 43.0331)</td>\n",
       "      <td>h2</td>\n",
       "    </tr>\n",
       "  </tbody>\n",
       "</table>\n",
       "</div>"
      ],
      "text/plain": [
       "   id  status                  geometry hydrant_id\n",
       "0  H0  Active  POINT (-89.4412 43.0331)         h1\n",
       "1  H1  Active  POINT (-89.4162 43.0331)         h2"
      ]
     },
     "metadata": {},
     "output_type": "display_data"
    },
    {
     "name": "stderr",
     "output_type": "stream",
     "text": [
      "2025-04-01 13:50:47,291 - src.data_processing - INFO - Processing pressure zones data...\n",
      "2025-04-01 13:50:47,300 - pyogrio._io - INFO - Created 2 records\n",
      "2025-04-01 13:50:47,300 - src.data_processing - INFO - Pressure zones data processed: 2 zones\n"
     ]
    },
    {
     "name": "stdout",
     "output_type": "stream",
     "text": [
      "\n",
      "Processing pressure zones data...\n",
      "\n",
      "Processed pressure zones: 2 zones\n"
     ]
    },
    {
     "data": {
      "text/html": [
       "<div>\n",
       "<style scoped>\n",
       "    .dataframe tbody tr th:only-of-type {\n",
       "        vertical-align: middle;\n",
       "    }\n",
       "\n",
       "    .dataframe tbody tr th {\n",
       "        vertical-align: top;\n",
       "    }\n",
       "\n",
       "    .dataframe thead th {\n",
       "        text-align: right;\n",
       "    }\n",
       "</style>\n",
       "<table border=\"1\" class=\"dataframe\">\n",
       "  <thead>\n",
       "    <tr style=\"text-align: right;\">\n",
       "      <th></th>\n",
       "      <th>id</th>\n",
       "      <th>name</th>\n",
       "      <th>pressure</th>\n",
       "      <th>geometry</th>\n",
       "    </tr>\n",
       "  </thead>\n",
       "  <tbody>\n",
       "    <tr>\n",
       "      <th>0</th>\n",
       "      <td>Z0</td>\n",
       "      <td>Zone 1</td>\n",
       "      <td>40</td>\n",
       "      <td>POLYGON ((-89.4612 43.0131, -89.4012 43.0131, ...</td>\n",
       "    </tr>\n",
       "    <tr>\n",
       "      <th>1</th>\n",
       "      <td>Z1</td>\n",
       "      <td>Zone 2</td>\n",
       "      <td>50</td>\n",
       "      <td>POLYGON ((-89.4312 43.0131, -89.3712 43.0131, ...</td>\n",
       "    </tr>\n",
       "  </tbody>\n",
       "</table>\n",
       "</div>"
      ],
      "text/plain": [
       "   id    name  pressure                                           geometry\n",
       "0  Z0  Zone 1        40  POLYGON ((-89.4612 43.0131, -89.4012 43.0131, ...\n",
       "1  Z1  Zone 2        50  POLYGON ((-89.4312 43.0131, -89.3712 43.0131, ..."
      ]
     },
     "metadata": {},
     "output_type": "display_data"
    }
   ],
   "source": [
    "# Process hydrants data\n",
    "print(\"Processing hydrants data...\")\n",
    "hydrants = processor.process_hydrants()\n",
    "\n",
    "if isinstance(hydrants, gpd.GeoDataFrame):\n",
    "    print(f\"\\nProcessed hydrants: {len(hydrants)} hydrants\")\n",
    "    display(hydrants.head(2))\n",
    "\n",
    "# Process pressure zones data\n",
    "print(\"\\nProcessing pressure zones data...\")\n",
    "pressure_zones = processor.process_pressure_zones()\n",
    "\n",
    "if isinstance(pressure_zones, gpd.GeoDataFrame):\n",
    "    print(f\"\\nProcessed pressure zones: {len(pressure_zones)} zones\")\n",
    "    display(pressure_zones.head(2))"
   ]
  },
  {
   "cell_type": "markdown",
   "metadata": {},
   "source": [
    "### 3.3 Creating a Network Model from Processed Data\n",
    "\n",
    "Now we'll create a network model for EPANET from our processed data:"
   ]
  },
  {
   "cell_type": "code",
   "execution_count": 62,
   "metadata": {},
   "outputs": [
    {
     "name": "stderr",
     "output_type": "stream",
     "text": [
      "2025-04-01 13:50:53,868 - src.data_processing - INFO - Creating EPANET network data...\n",
      "2025-04-01 13:50:53,869 - src.data_processing - ERROR - Processed water mains file data/processed/processed_water_mains.geojson not found!\n"
     ]
    },
    {
     "name": "stdout",
     "output_type": "stream",
     "text": [
      "Creating EPANET network data...\n"
     ]
    }
   ],
   "source": [
    "# Create a subset area around downtown Madison for focused modeling\n",
    "downtown_madison = (-89.3837, 43.0731)  # Longitude, Latitude\n",
    "subset_area = processor.create_subset_area(downtown_madison, radius_km=3.0)\n",
    "\n",
    "print(\"Creating EPANET network data...\")\n",
    "network_data = processor.create_epanet_network_data(water_mains, subset_area)\n",
    "\n",
    "if network_data:\n",
    "    print(\"\\nEPANET Network Data:\")\n",
    "    print(f\"- Junctions: {len(network_data['junctions'])} features\")\n",
    "    print(f\"- Connections: {len(network_data['connections'])} features\")\n",
    "    if network_data['reservoir']:\n",
    "        print(f\"- Reservoir: {network_data['reservoir']['reservoir_id']} connected to {network_data['reservoir']['junction_id']}\")\n",
    "    \n",
    "    # Display first few junctions\n",
    "    display(network_data['junctions'].head(2))\n",
    "    \n",
    "    # Display first few connections\n",
    "    display(pd.DataFrame(network_data['connections']).head(2))"
   ]
  },
  {
   "cell_type": "markdown",
   "metadata": {},
   "source": [
    "### 3.4 Process All Data in One Step\n",
    "\n",
    "Now let's run the full data processing pipeline:"
   ]
  },
  {
   "cell_type": "code",
   "execution_count": 74,
   "metadata": {},
   "outputs": [
    {
     "name": "stderr",
     "output_type": "stream",
     "text": [
      "2025-04-01 14:05:31,868 - src.data_processing - INFO - Processing all water distribution data...\n",
      "2025-04-01 14:05:31,870 - src.data_processing - INFO - Cleaning water mains data...\n",
      "2025-04-01 14:05:31,875 - src.data_processing - INFO - Original water mains data: 10 rows\n",
      "2025-04-01 14:05:31,878 - src.data_processing - ERROR - Error processing water mains data: 'material'\n",
      "2025-04-01 14:05:31,879 - src.data_processing - ERROR - Failed to process water mains data\n"
     ]
    },
    {
     "name": "stdout",
     "output_type": "stream",
     "text": [
      "Processing all water distribution data...\n"
     ]
    }
   ],
   "source": [
    "# Process all water distribution data with a spatial subset\n",
    "print(\"Processing all water distribution data...\")\n",
    "processed_data = processor.process_all_data(subset_area)\n",
    "\n",
    "if processed_data:\n",
    "    print(\"\\nComplete processed data summary:\")\n",
    "    for key, data in processed_data.items():\n",
    "        if key == 'network_data':\n",
    "            print(f\"\\n{key}:\")\n",
    "            print(f\"  - Junctions: {len(data['junctions'])} features\")\n",
    "            print(f\"  - Connections: {len(data['connections'])} features\")\n",
    "        elif isinstance(data, gpd.GeoDataFrame):\n",
    "            print(f\"\\n{key}: {len(data)} features\")"
   ]
  },
  {
   "cell_type": "markdown",
   "metadata": {},
   "source": [
    "## 4. EPANET Setup\n",
    "\n",
    "Before building our water distribution network model, we need to set up the EPANET command-line tool. EPANET is the hydraulic simulation engine we'll use to analyze water flow, pressure, and quality in our network."
   ]
  },
  {
   "cell_type": "code",
   "execution_count": 56,
   "metadata": {},
   "outputs": [
    {
     "name": "stderr",
     "output_type": "stream",
     "text": [
      "2025-04-01 13:49:56,056 - src.epanet_util - INFO - Setting up EPANET command-line tool...\n",
      "2025-04-01 13:49:56,057 - src.epanet_util - INFO - Downloading EPANET from https://github.com/OpenWaterAnalytics/EPANET/releases/download/v2.2/linux.tar.gz...\n"
     ]
    },
    {
     "name": "stdout",
     "output_type": "stream",
     "text": [
      "Setting up EPANET command-line tool...\n"
     ]
    },
    {
     "name": "stderr",
     "output_type": "stream",
     "text": [
      "2025-04-01 13:49:56,251 - src.epanet_util - ERROR - Failed to download EPANET: 404 Client Error: Not Found for url: https://github.com/OpenWaterAnalytics/EPANET/releases/download/v2.2/linux.tar.gz\n",
      "2025-04-01 13:49:56,253 - src.epanet_util - INFO - Creating a dummy executable as fallback...\n",
      "2025-04-01 13:49:56,254 - src.epanet_util - INFO - Creating dummy EPANET executable at epanet/epanet2\n",
      "2025-04-01 13:49:56,259 - src.epanet_util - INFO - Dummy EPANET executable created successfully\n",
      "2025-04-01 13:49:56,263 - src.epanet_util - INFO - EPANET executable details:\n",
      "2025-04-01 13:49:56,265 - src.epanet_util - INFO -   Path: epanet/epanet2\n",
      "2025-04-01 13:49:56,267 - src.epanet_util - INFO -   Size: 199 bytes\n",
      "2025-04-01 13:49:56,269 - src.epanet_util - INFO -   Permissions: 775\n"
     ]
    },
    {
     "name": "stdout",
     "output_type": "stream",
     "text": [
      "\n",
      "EPANET setup successful.\n",
      "EPANET executable verification successful.\n"
     ]
    }
   ],
   "source": [
    "# Import the EPANET utility module\n",
    "from src.epanet_util import setup_epanet, verify_executable\n",
    "\n",
    "# Set up EPANET command-line tool\n",
    "print(\"Setting up EPANET command-line tool...\")\n",
    "epanet_setup_success = setup_epanet()\n",
    "\n",
    "if epanet_setup_success:\n",
    "    print(\"\\nEPANET setup successful.\")\n",
    "    \n",
    "    # Verify EPANET executable\n",
    "    if verify_executable():\n",
    "        print(\"EPANET executable verification successful.\")\n",
    "    else:\n",
    "        print(\"EPANET executable verification failed. A dummy executable was created.\")\n",
    "else:\n",
    "    print(\"\\nEPANET setup failed. Check logs for details.\")"
   ]
  },
  {
   "cell_type": "markdown",
   "metadata": {},
   "source": [
    "## 5. Network Modeling\n",
    "\n",
    "Now we'll build a network model from our processed GIS data. This involves:\n",
    "1. Creating a graph representation of the water distribution network\n",
    "2. Adding elevation data\n",
    "3. Adding junction demands\n",
    "4. Adding water sources (reservoirs and tanks)\n",
    "5. Generating an EPANET input file"
   ]
  },
  {
   "cell_type": "code",
   "execution_count": 57,
   "metadata": {},
   "outputs": [
    {
     "name": "stderr",
     "output_type": "stream",
     "text": [
      "2025-04-01 13:49:56,320 - src.network_model - INFO - Building network model from GIS data...\n",
      "2025-04-01 13:49:56,322 - src.network_model - ERROR - Error building network model: data/processed/processed_water_mains.geojson: No such file or directory\n"
     ]
    },
    {
     "name": "stdout",
     "output_type": "stream",
     "text": [
      "Building network model from GIS data...\n"
     ]
    }
   ],
   "source": [
    "# Import the NetworkBuilder class\n",
    "from src.network_model import NetworkBuilder\n",
    "\n",
    "# Create an instance of the NetworkBuilder\n",
    "builder = NetworkBuilder()\n",
    "\n",
    "# Paths to processed data\n",
    "mains_file = \"data/processed/processed_water_mains.geojson\"\n",
    "hydrants_file = \"data/processed/processed_hydrants.geojson\"\n",
    "pressure_zones_file = \"data/processed/processed_pressure_zones.geojson\"\n",
    "\n",
    "# Build network model from GIS data\n",
    "print(\"Building network model from GIS data...\")\n",
    "network_model = builder.build_from_gis(mains_file, hydrants_file, pressure_zones_file)\n",
    "\n",
    "if network_model:\n",
    "    print(\"\\nNetwork model built successfully.\")\n",
    "    \n",
    "    # Get network statistics\n",
    "    stats = builder.get_network_stats(network_model)\n",
    "    \n",
    "    print(\"\\nNetwork Statistics:\")\n",
    "    for key, value in stats.items():\n",
    "        print(f\"- {key}: {value}\")\n",
    "    \n",
    "    # Save the network model\n",
    "    model_file = \"data/output/network_model.json\"\n",
    "    builder.save_network(network_model, model_file)\n",
    "    print(f\"\\nNetwork model saved to {model_file}\")"
   ]
  },
  {
   "cell_type": "markdown",
   "metadata": {},
   "source": [
    "### 5.1 Visualizing the Network Graph Structure"
   ]
  },
  {
   "cell_type": "code",
   "execution_count": 58,
   "metadata": {},
   "outputs": [],
   "source": [
    "# Visualize network graph structure\n",
    "if network_model:\n",
    "    G = network_model['graph']\n",
    "    \n",
    "    # Get node positions for visualization\n",
    "    pos = {}\n",
    "    node_colors = []\n",
    "    \n",
    "    for node in G.nodes():\n",
    "        # Get node attributes\n",
    "        attrs = G.nodes[node]\n",
    "        \n",
    "        if 'x' in attrs and 'y' in attrs:\n",
    "            pos[node] = (attrs['x'], attrs['y'])\n",
    "        \n",
    "        # Set node color based on type\n",
    "        if attrs.get('type') == 'junction':\n",
    "            node_colors.append('blue')\n",
    "        elif attrs.get('type') == 'reservoir':\n",
    "            node_colors.append('red')\n",
    "        elif attrs.get('type') == 'tank':\n",
    "            node_colors.append('green')\n",
    "        else:\n",
    "            node_colors.append('gray')\n",
    "    \n",
    "    # Create plot\n",
    "    plt.figure(figsize=(12, 10))\n",
    "    \n",
    "    # Draw nodes\n",
    "    nx.draw_networkx_nodes(G, pos, node_size=25, node_color=node_colors, alpha=0.7)\n",
    "    \n",
    "    # Draw edges\n",
    "    nx.draw_networkx_edges(G, pos, width=0.5, alpha=0.5)\n",
    "    \n",
    "    # Add labels to reservoirs and tanks only\n",
    "    labels = {node: node for node in G.nodes() \n",
    "              if G.nodes[node].get('type') in ['reservoir', 'tank']}\n",
    "    nx.draw_networkx_labels(G, pos, labels=labels, font_size=10)\n",
    "    \n",
    "    plt.title(\"Water Distribution Network\")\n",
    "    plt.axis('off')\n",
    "    plt.show()"
   ]
  },
  {
   "cell_type": "markdown",
   "metadata": {},
   "source": [
    "## 6. Hydraulic Simulation\n",
    "\n",
    "With our network model built, we can now run hydraulic simulations to analyze water flow, pressure, and other parameters throughout the network over time."
   ]
  },
  {
   "cell_type": "code",
   "execution_count": 59,
   "metadata": {},
   "outputs": [
    {
     "name": "stderr",
     "output_type": "stream",
     "text": [
      "2025-04-01 13:49:56,370 - src.simulation - INFO - Running hydraulic simulation for 24 hours...\n",
      "2025-04-01 13:49:56,371 - src.simulation - INFO - Running EPANET simulation using epanet/epanet2...\n",
      "2025-04-01 13:49:56,379 - src.simulation - INFO - Parsing EPANET report file: data/output/madison_network.rpt\n",
      "2025-04-01 13:49:56,381 - src.simulation - INFO - Simulation completed successfully. Results saved to data/output/simulation_results.json\n"
     ]
    },
    {
     "name": "stdout",
     "output_type": "stream",
     "text": [
      "Running hydraulic simulation...\n",
      "\n",
      "Simulation completed successfully.\n",
      "\n",
      "Simulation Statistics:\n",
      "- Duration: 0 hours\n",
      "\n",
      "Pressure (m):\n"
     ]
    },
    {
     "ename": "TypeError",
     "evalue": "unsupported format string passed to NoneType.__format__",
     "output_type": "error",
     "traceback": [
      "\u001b[0;31m---------------------------------------------------------------------------\u001b[0m",
      "\u001b[0;31mTypeError\u001b[0m                                 Traceback (most recent call last)",
      "Cell \u001b[0;32mIn[59], line 24\u001b[0m\n\u001b[1;32m     21\u001b[0m \u001b[38;5;28mprint\u001b[39m(\u001b[38;5;124mf\u001b[39m\u001b[38;5;124m\"\u001b[39m\u001b[38;5;124m- Duration: \u001b[39m\u001b[38;5;132;01m{\u001b[39;00mstats[\u001b[38;5;124m'\u001b[39m\u001b[38;5;124mduration_hours\u001b[39m\u001b[38;5;124m'\u001b[39m]\u001b[38;5;132;01m}\u001b[39;00m\u001b[38;5;124m hours\u001b[39m\u001b[38;5;124m\"\u001b[39m)\n\u001b[1;32m     23\u001b[0m \u001b[38;5;28mprint\u001b[39m(\u001b[38;5;124m\"\u001b[39m\u001b[38;5;130;01m\\n\u001b[39;00m\u001b[38;5;124mPressure (m):\u001b[39m\u001b[38;5;124m\"\u001b[39m)\n\u001b[0;32m---> 24\u001b[0m \u001b[38;5;28mprint\u001b[39m(\u001b[38;5;124mf\u001b[39m\u001b[38;5;124m\"\u001b[39m\u001b[38;5;124m- Min: \u001b[39m\u001b[38;5;132;43;01m{\u001b[39;49;00m\u001b[43mstats\u001b[49m\u001b[43m[\u001b[49m\u001b[38;5;124;43m'\u001b[39;49m\u001b[38;5;124;43mpressure\u001b[39;49m\u001b[38;5;124;43m'\u001b[39;49m\u001b[43m]\u001b[49m\u001b[43m[\u001b[49m\u001b[38;5;124;43m'\u001b[39;49m\u001b[38;5;124;43mmin\u001b[39;49m\u001b[38;5;124;43m'\u001b[39;49m\u001b[43m]\u001b[49m\u001b[38;5;132;43;01m:\u001b[39;49;00m\u001b[38;5;124;43m.2f\u001b[39;49m\u001b[38;5;132;43;01m}\u001b[39;49;00m\u001b[38;5;124m\"\u001b[39m)\n\u001b[1;32m     25\u001b[0m \u001b[38;5;28mprint\u001b[39m(\u001b[38;5;124mf\u001b[39m\u001b[38;5;124m\"\u001b[39m\u001b[38;5;124m- Max: \u001b[39m\u001b[38;5;132;01m{\u001b[39;00mstats[\u001b[38;5;124m'\u001b[39m\u001b[38;5;124mpressure\u001b[39m\u001b[38;5;124m'\u001b[39m][\u001b[38;5;124m'\u001b[39m\u001b[38;5;124mmax\u001b[39m\u001b[38;5;124m'\u001b[39m]\u001b[38;5;132;01m:\u001b[39;00m\u001b[38;5;124m.2f\u001b[39m\u001b[38;5;132;01m}\u001b[39;00m\u001b[38;5;124m\"\u001b[39m)\n\u001b[1;32m     26\u001b[0m \u001b[38;5;28mprint\u001b[39m(\u001b[38;5;124mf\u001b[39m\u001b[38;5;124m\"\u001b[39m\u001b[38;5;124m- Avg: \u001b[39m\u001b[38;5;132;01m{\u001b[39;00mstats[\u001b[38;5;124m'\u001b[39m\u001b[38;5;124mpressure\u001b[39m\u001b[38;5;124m'\u001b[39m][\u001b[38;5;124m'\u001b[39m\u001b[38;5;124mavg\u001b[39m\u001b[38;5;124m'\u001b[39m]\u001b[38;5;132;01m:\u001b[39;00m\u001b[38;5;124m.2f\u001b[39m\u001b[38;5;132;01m}\u001b[39;00m\u001b[38;5;124m\"\u001b[39m)\n",
      "\u001b[0;31mTypeError\u001b[0m: unsupported format string passed to NoneType.__format__"
     ]
    }
   ],
   "source": [
    "# Import the EPANETSimulator class\n",
    "from src.simulation import EPANETSimulator\n",
    "\n",
    "# Create an instance of the EPANETSimulator\n",
    "simulator = EPANETSimulator()\n",
    "\n",
    "# Path to INP file\n",
    "inp_file = \"data/output/madison_network.inp\"\n",
    "\n",
    "# Run hydraulic simulation\n",
    "print(\"Running hydraulic simulation...\")\n",
    "results = simulator.run_simulation(inp_file, duration_hours=24, report_time_step=1)\n",
    "\n",
    "if results:\n",
    "    print(\"\\nSimulation completed successfully.\")\n",
    "    \n",
    "    # Get simulation statistics\n",
    "    stats = simulator.get_result_stats(results)\n",
    "    \n",
    "    print(\"\\nSimulation Statistics:\")\n",
    "    print(f\"- Duration: {stats['duration_hours']} hours\")\n",
    "    \n",
    "    print(\"\\nPressure (m):\")\n",
    "    print(f\"- Min: {stats['pressure']['min']:.2f}\")\n",
    "    print(f\"- Max: {stats['pressure']['max']:.2f}\")\n",
    "    print(f\"- Avg: {stats['pressure']['avg']:.2f}\")\n",
    "    \n",
    "    print(\"\\nFlow (m³/s):\")\n",
    "    print(f\"- Min: {stats['flow']['min']:.4f}\")\n",
    "    print(f\"- Max: {stats['flow']['max']:.4f}\")\n",
    "    print(f\"- Avg: {stats['flow']['avg']:.4f}\")\n",
    "    \n",
    "    print(\"\\nVelocity (m/s):\")\n",
    "    print(f\"- Min: {stats['velocity']['min']:.2f}\")\n",
    "    print(f\"- Max: {stats['velocity']['max']:.2f}\")\n",
    "    print(f\"- Avg: {stats['velocity']['avg']:.2f}\")\n",
    "    \n",
    "    # Save results\n",
    "    results_file = \"data/output/simulation_results.json\"\n",
    "    simulator.save_results(results, results_file)\n",
    "    print(f\"\\nSimulation results saved to {results_file}\")"
   ]
  },
  {
   "cell_type": "markdown",
   "metadata": {},
   "source": [
    "### 6.1 Visualizing Time Series Simulation Results"
   ]
  },
  {
   "cell_type": "code",
   "execution_count": null,
   "metadata": {},
   "outputs": [],
   "source": [
    "# Plot pressure and flow time series for selected nodes and pipes\n",
    "if results:\n",
    "    # Get time steps\n",
    "    time_steps = results['time_steps']\n",
    "    \n",
    "    # Select a few junctions and pipes to plot\n",
    "    junction_ids = list(results['nodes']['pressure'].keys())[:5]  # First 5 junctions\n",
    "    pipe_ids = list(results['links']['flow'].keys())[:5]  # First 5 pipes\n",
    "    \n",
    "    # Create pressure plot\n",
    "    plt.figure(figsize=(12, 6))\n",
    "    \n",
    "    for junction_id in junction_ids:\n",
    "        pressures = results['nodes']['pressure'][junction_id]\n",
    "        plt.plot(time_steps, pressures, marker='o', label=f\"Junction {junction_id}\")\n",
    "    \n",
    "    plt.title(\"Junction Pressures Over Time\")\n",
    "    plt.xlabel(\"Time (hours)\")\n",
    "    plt.ylabel(\"Pressure (m)\")\n",
    "    plt.legend()\n",
    "    plt.grid(True)\n",
    "    plt.xticks(rotation=45)\n",
    "    plt.tight_layout()\n",
    "    plt.show()\n",
    "    \n",
    "    # Create flow plot\n",
    "    plt.figure(figsize=(12, 6))\n",
    "    \n",
    "    for pipe_id in pipe_ids:\n",
    "        flows = [abs(flow) for flow in results['links']['flow'][pipe_id]]  # Use absolute values\n",
    "        plt.plot(time_steps, flows, marker='o', label=f\"Pipe {pipe_id}\")\n",
    "    \n",
    "    plt.title(\"Pipe Flow Rates Over Time\")\n",
    "    plt.xlabel(\"Time (hours)\")\n",
    "    plt.ylabel(\"Flow Rate (m³/s)\")\n",
    "    plt.legend()\n",
    "    plt.grid(True)\n",
    "    plt.xticks(rotation=45)\n",
    "    plt.tight_layout()\n",
    "    plt.show()"
   ]
  },
  {
   "cell_type": "markdown",
   "metadata": {},
   "source": [
    "## 7. Visualization\n",
    "\n",
    "Finally, let's create visualizations for our water distribution model and simulation results:"
   ]
  },
  {
   "cell_type": "code",
   "execution_count": null,
   "metadata": {},
   "outputs": [],
   "source": [
    "# Import the NetworkVisualizer class\n",
    "from src.visualization import NetworkVisualizer\n",
    "\n",
    "# Create an instance of the NetworkVisualizer\n",
    "visualizer = NetworkVisualizer()\n",
    "\n",
    "# Path to INP file and results file\n",
    "inp_file = \"data/output/madison_network.inp\"\n",
    "results_file = \"data/output/simulation_results.json\"\n",
    "\n",
    "# Create GeoJSON representation of the network\n",
    "print(\"Creating GeoJSON representation of the network...\")\n",
    "network_geojson = visualizer.get_network_geojson(inp_file)\n",
    "\n",
    "if network_geojson:\n",
    "    print(\"\\nGeoJSON representation created successfully.\")\n",
    "    print(f\"- Nodes: {len(network_geojson['nodes']['features'])} features\")\n",
    "    print(f\"- Links: {len(network_geojson['links']['features'])} features\")\n",
    "    \n",
    "    # Create network statistics charts\n",
    "    charts = visualizer.create_network_stats_charts(inp_file)\n",
    "    \n",
    "    if charts:\n",
    "        print(\"\\nNetwork statistics charts created successfully.\")\n",
    "        \n",
    "        # Display diameter distribution chart data\n",
    "        print(\"\\nPipe Diameter Distribution:\")\n",
    "        for i, label in enumerate(charts['diameter_distribution']['labels']):\n",
    "            count = charts['diameter_distribution']['datasets'][0]['data'][i]\n",
    "            print(f\"- {label} mm: {count} pipes\")"
   ]
  },
  {
   "cell_type": "markdown",
   "metadata": {},
   "source": [
    "### 7.1 Creating Results Visualization"
   ]
  },
  {
   "cell_type": "code",
   "execution_count": null,
   "metadata": {},
   "outputs": [],
   "source": [
    "# Create results visualization\n",
    "print(\"Creating results visualization...\")\n",
    "visualization_data = visualizer.create_results_visualization(\n",
    "    inp_file, \n",
    "    results_file, \n",
    "    output_file=\"data/output/visualization_data.json\"\n",
    ")\n",
    "\n",
    "if visualization_data:\n",
    "    print(\"\\nResults visualization created successfully.\")\n",
    "    \n",
    "    # Create results charts\n",
    "    results_charts = visualizer.create_results_charts(results_file)\n",
    "    \n",
    "    if results_charts:\n",
    "        print(\"\\nResults charts created successfully.\")"
   ]
  },
  {
   "cell_type": "markdown",
   "metadata": {},
   "source": [
    "### 7.2 Visualizing the Network on a Map (Optional - Requires folium)"
   ]
  },
  {
   "cell_type": "code",
   "execution_count": null,
   "metadata": {},
   "outputs": [],
   "source": [
    "# install folium if you want to visualize the network on a map\n",
    "\n",
    "# try:\n",
    "#     import folium\n",
    "#     \n",
    "#     # Create a map centered on Madison, WI\n",
    "#     m = folium.Map(location=[43.0731, -89.4012], zoom_start=12)\n",
    "#     \n",
    "#     # Add nodes to the map\n",
    "#     for feature in network_geojson['nodes']['features']:\n",
    "#         coords = feature['geometry']['coordinates']\n",
    "#         node_type = feature['properties'].get('type', 'unknown')\n",
    "#         \n",
    "#         # Set color based on node type\n",
    "#         if node_type == 'junction':\n",
    "#             color = 'blue'\n",
    "#         elif node_type == 'reservoir':\n",
    "#             color = 'red'\n",
    "#         elif node_type == 'tank':\n",
    "#             color = 'green'\n",
    "#         else:\n",
    "#             color = 'gray'\n",
    "#         \n",
    "#         folium.CircleMarker(\n",
    "#             location=[coords[1], coords[0]],\n",
    "#             radius=3,\n",
    "#             color=color,\n",
    "#             fill=True,\n",
    "#             fill_opacity=0.7,\n",
    "#             popup=feature['properties'].get('id', 'Unknown')\n",
    "#         ).add_to(m)\n",
    "#     \n",
    "#     # Add pipes to the map\n",
    "#     for feature in network_geojson['links']['features']:\n",
    "#         coords = feature['geometry']['coordinates']\n",
    "#         \n",
    "#         # Convert coordinates format\n",
    "#         line_coords = [[coord[1], coord[0]] for coord in coords]\n",
    "#         \n",
    "#         # Add line to map\n",
    "#         folium.PolyLine(\n",
    "#             line_coords,\n",
    "#             color='black',\n",
    "#             weight=2,\n",
    "#             opacity=0.7,\n",
    "#             popup=feature['properties'].get('id', 'Unknown')\n",
    "#         ).add_to(m)\n",
    "#     \n",
    "#     # Display the map\n",
    "#     display(m)\n",
    "#     \n",
    "# except ImportError:\n",
    "#     print(\"Folium package not installed. Skip map visualization.\")"
   ]
  },
  {
   "cell_type": "markdown",
   "metadata": {},
   "source": [
    "## 8. Complete Pipeline and Summary\n",
    "\n",
    "Let's run the complete pipeline from data collection to visualization:"
   ]
  },
  {
   "cell_type": "code",
   "execution_count": null,
   "metadata": {},
   "outputs": [],
   "source": [
    "# Create directories\n",
    "for directory in [\"data/raw\", \"data/processed\", \"data/output\", \"epanet\"]:\n",
    "    Path(directory).mkdir(parents=True, exist_ok=True)\n",
    "\n",
    "print(\"Starting complete water distribution modeling pipeline...\")\n",
    "\n",
    "# Step 1: Collect data\n",
    "print(\"\\n[Step 1] Collecting data...\")\n",
    "collector = DataCollector()\n",
    "all_data = collector.fetch_all_data()\n",
    "\n",
    "# Step 2: Process data\n",
    "print(\"\\n[Step 2] Processing data...\")\n",
    "processor = DataProcessor()\n",
    "downtown_madison = (-89.3837, 43.0731)  # Longitude, Latitude\n",
    "subset_area = processor.create_subset_area(downtown_madison, radius_km=3.0)\n",
    "processed_data = processor.process_all_data(subset_area)\n",
    "\n",
    "# Step 3: Set up EPANET\n",
    "print(\"\\n[Step 3] Setting up EPANET...\")\n",
    "setup_epanet()\n",
    "\n",
    "# Step 4: Build network model\n",
    "print(\"\\n[Step 4] Building network model...\")\n",
    "builder = NetworkBuilder()\n",
    "mains_file = \"data/processed/processed_water_mains.geojson\"\n",
    "hydrants_file = \"data/processed/processed_hydrants.geojson\"\n",
    "pressure_zones_file = \"data/processed/processed_pressure_zones.geojson\"\n",
    "network_model = builder.build_from_gis(mains_file, hydrants_file, pressure_zones_file)\n",
    "\n",
    "# Step 5: Run simulation\n",
    "print(\"\\n[Step 5] Running hydraulic simulation...\")\n",
    "simulator = EPANETSimulator()\n",
    "inp_file = \"data/output/madison_network.inp\"\n",
    "results = simulator.run_simulation(inp_file)\n",
    "\n",
    "# Step 6: Create visualizations\n",
    "print(\"\\n[Step 6] Creating visualizations...\")\n",
    "visualizer = NetworkVisualizer()\n",
    "results_file = \"data/output/simulation_results.json\"\n",
    "visualization_data = visualizer.create_results_visualization(\n",
    "    inp_file, \n",
    "    results_file, \n",
    "    output_file=\"data/output/visualization_data.json\"\n",
    ")\n",
    "\n",
    "print(\"\\nWater distribution modeling pipeline complete!\")"
   ]
  },
  {
   "cell_type": "markdown",
   "metadata": {},
   "source": [
    "## 9. Conclusion\n",
    "\n",
    "In this notebook, we've completed the entire workflow for water distribution modeling:\n",
    "\n",
    "1. **Data Collection**: Gathered water infrastructure GIS data, USGS water data, EPA water quality data, and elevation data.\n",
    "2. **Data Processing**: Cleaned and prepared the data for modeling, including network topology creation.\n",
    "3. **EPANET Setup**: Set up the EPANET hydraulic simulation engine.\n",
    "4. **Network Modeling**: Built a complete water distribution network model from GIS data.\n",
    "5. **Hydraulic Simulation**: Ran simulations to analyze water flow, pressure, and other parameters.\n",
    "6. **Visualization**: Created visualizations of the network and simulation results.\n",
    "\n",
    "The processed data and simulation results are available in the `data/processed` and `data/output` directories, respectively. These can be used for further analysis or integration with other systems.\n",
    "\n",
    "### Next Steps and Potential Extensions\n",
    "\n",
    "- **Water Quality Modeling**: Add water quality parameters to simulate chlorine decay or contaminant transport.\n",
    "- **Scenario Analysis**: Explore different operational scenarios or emergency situations.\n",
    "- **Real-time Integration**: Connect the model to SCADA or IoT sensor data for real-time monitoring.\n",
    "- **Optimization**: Implement algorithms to optimize pump operations or water source blending.\n",
    "- **Web Interface**: Develop a web-based dashboard for interactive exploration of the model and results."
   ]
  }
 ],
 "metadata": {
  "kernelspec": {
   "display_name": "venv",
   "language": "python",
   "name": "python3"
  },
  "language_info": {
   "codemirror_mode": {
    "name": "ipython",
    "version": 3
   },
   "file_extension": ".py",
   "mimetype": "text/x-python",
   "name": "python",
   "nbconvert_exporter": "python",
   "pygments_lexer": "ipython3",
   "version": "3.12.3"
  }
 },
 "nbformat": 4,
 "nbformat_minor": 4
}
