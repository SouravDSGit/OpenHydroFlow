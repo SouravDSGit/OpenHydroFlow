{
 "cells": [
  {
   "cell_type": "markdown",
   "metadata": {},
   "source": [
    "# Water Distribution System Modeling and Analysis\n",
    "\n",
    "This notebook walks through a complete water distribution system modeling workflow using the HydroFlow application. We'll cover data collection, processing, network modeling, hydraulic simulation, and visualization of results for a water distribution system in Madison, WI."
   ]
  },
  {
   "cell_type": "markdown",
   "metadata": {},
   "source": [
    "# Adding Project Root to the path"
   ]
  },
  {
   "cell_type": "code",
   "execution_count": 5,
   "metadata": {},
   "outputs": [
    {
     "name": "stdout",
     "output_type": "stream",
     "text": [
      "Project root added to path: /home/smdsgit/SouravDSGit/OpenHydroFlow\n",
      "Current directory: /home/smdsgit/SouravDSGit/OpenHydroFlow/example\n"
     ]
    }
   ],
   "source": [
    "import os\n",
    "import sys\n",
    "# Get the absolute path to the project root\n",
    "project_root = os.path.abspath(os.path.join(os.getcwd(), '..'))\n",
    "# Add the project root to Python's sys.path\n",
    "if project_root not in sys.path:\n",
    "    sys.path.insert(0, project_root)\n",
    "\n",
    "# Now you can import using the original paths\n",
    "# This shows what's in your path\n",
    "print(f\"Project root added to path: {project_root}\")\n",
    "print(f\"Current directory: {os.getcwd()}\")"
   ]
  },
  {
   "cell_type": "markdown",
   "metadata": {},
   "source": [
    "## 1. Setup and Environment Preparation\n",
    "\n",
    "First, let's set up our environment, import necessary libraries, and configure logging."
   ]
  },
  {
   "cell_type": "code",
   "execution_count": 11,
   "metadata": {},
   "outputs": [
    {
     "name": "stdout",
     "output_type": "stream",
     "text": [
      "Project root: /home/smdsgit/SouravDSGit/OpenHydroFlow\n",
      "Created directory: /home/smdsgit/SouravDSGit/OpenHydroFlow/data/raw\n",
      "Created directory: /home/smdsgit/SouravDSGit/OpenHydroFlow/data/processed\n",
      "Created directory: /home/smdsgit/SouravDSGit/OpenHydroFlow/data/output\n",
      "Created directory: /home/smdsgit/SouravDSGit/OpenHydroFlow/epanet\n",
      "Environment setup complete. Directory structure created.\n"
     ]
    }
   ],
   "source": [
    "# Import core libraries\n",
    "import os\n",
    "import logging\n",
    "import pandas as pd\n",
    "import geopandas as gpd\n",
    "import numpy as np\n",
    "import matplotlib.pyplot as plt\n",
    "import json\n",
    "from pathlib import Path\n",
    "import networkx as nx\n",
    "from IPython.display import display, HTML\n",
    "\n",
    "# Setup logging for better visibility in notebook\n",
    "logging.basicConfig(\n",
    "    level=logging.INFO,\n",
    "    format='%(asctime)s - %(name)s - %(levelname)s - %(message)s'\n",
    ")\n",
    "logger = logging.getLogger(__name__)\n",
    "\n",
    "# Get the project root directory\n",
    "project_root = os.path.abspath(os.path.join(os.getcwd(), '..'))\n",
    "\n",
    "# Add project root to Python path for imports\n",
    "import sys\n",
    "if project_root not in sys.path:\n",
    "    sys.path.insert(0, project_root)\n",
    "    \n",
    "print(f\"Project root: {project_root}\")\n",
    "\n",
    "# Create necessary directory structure IN THE PROJECT ROOT\n",
    "data_dirs = [\"data/raw\", \"data/processed\", \"data/output\", \"epanet\"]\n",
    "for directory in data_dirs:\n",
    "    # Use project_root to create directories in the right place\n",
    "    full_path = os.path.join(project_root, directory)\n",
    "    Path(full_path).mkdir(parents=True, exist_ok=True)\n",
    "    print(f\"Created directory: {full_path}\")\n",
    "\n",
    "print(\"Environment setup complete. Directory structure created.\")"
   ]
  },
  {
   "cell_type": "markdown",
   "metadata": {},
   "source": [
    "## 2. Data Collection\n",
    "\n",
    "The first step in water distribution modeling is gathering necessary data. We'll collect:\n",
    "1. Water infrastructure GIS data (water mains, hydrants, pressure zones). \n",
    "    * The open data API documentation is available here : https://data-cityofmadison.opendata.arcgis.com/datasets/cityofmadison::water-main-breaks/about\n",
    "    * For API go here: https://data-cityofmadison.opendata.arcgis.com/datasets/cityofmadison::water-main-breaks/api\n",
    "\n",
    "2. USGS water data for streams and groundwater\n",
    "3. EPA water quality data\n",
    "4. Elevation data\n",
    "\n",
    "Let's import our data collection module and collect the required data:"
   ]
  },
  {
   "cell_type": "code",
   "execution_count": 18,
   "metadata": {},
   "outputs": [
    {
     "name": "stderr",
     "output_type": "stream",
     "text": [
      "2025-04-01 11:32:33,238 - src.data_collection - INFO - EPA API key not provided. Using public access endpoints.\n",
      "2025-04-01 11:32:33,239 - src.data_collection - INFO - USGS API key not provided. Using public access endpoints.\n",
      "2025-04-01 11:32:33,240 - src.data_collection - INFO - Fetching Madison water infrastructure GIS data...\n",
      "2025-04-01 11:32:33,240 - src.data_collection - INFO - Trying to download water mains from: https://data-cityofmadison.opendata.arcgis.com/datasets/cityofmadison::water-mains.geojson\n",
      "2025-04-01 11:32:33,373 - src.data_collection - WARNING - Failed to download water mains from https://data-cityofmadison.opendata.arcgis.com/datasets/cityofmadison::water-mains.geojson: HTTP Error 500: Internal Server Error\n",
      "2025-04-01 11:32:33,373 - src.data_collection - INFO - Trying to download water mains from: https://data-cityofmadison.opendata.arcgis.com/datasets/water-mains.geojson\n"
     ]
    },
    {
     "name": "stdout",
     "output_type": "stream",
     "text": [
      "Collecting Madison water infrastructure GIS data...\n"
     ]
    },
    {
     "name": "stderr",
     "output_type": "stream",
     "text": [
      "2025-04-01 11:32:33,465 - src.data_collection - WARNING - Failed to download water mains from https://data-cityofmadison.opendata.arcgis.com/datasets/water-mains.geojson: HTTP Error 403: Forbidden\n",
      "2025-04-01 11:32:33,467 - src.data_collection - INFO - Trying to download water mains from: https://data-cityofmadison.opendata.arcgis.com/api/download/v1/items/water-mains/geojson\n",
      "2025-04-01 11:32:34,299 - src.data_collection - WARNING - Failed to download water mains from https://data-cityofmadison.opendata.arcgis.com/api/download/v1/items/water-mains/geojson: HTTP Error 400: Bad Request\n",
      "2025-04-01 11:32:34,300 - src.data_collection - INFO - Trying to download hydrants from: https://data-cityofmadison.opendata.arcgis.com/datasets/cityofmadison::fire-hydrants.geojson\n",
      "2025-04-01 11:32:34,404 - src.data_collection - WARNING - Failed to download hydrants from https://data-cityofmadison.opendata.arcgis.com/datasets/cityofmadison::fire-hydrants.geojson: HTTP Error 500: Internal Server Error\n",
      "2025-04-01 11:32:34,405 - src.data_collection - INFO - Trying to download hydrants from: https://data-cityofmadison.opendata.arcgis.com/datasets/fire-hydrants.geojson\n",
      "2025-04-01 11:32:34,496 - src.data_collection - WARNING - Failed to download hydrants from https://data-cityofmadison.opendata.arcgis.com/datasets/fire-hydrants.geojson: HTTP Error 403: Forbidden\n",
      "2025-04-01 11:32:34,497 - src.data_collection - INFO - Trying to download hydrants from: https://data-cityofmadison.opendata.arcgis.com/api/download/v1/items/fire-hydrants/geojson\n",
      "2025-04-01 11:32:35,100 - src.data_collection - WARNING - Failed to download hydrants from https://data-cityofmadison.opendata.arcgis.com/api/download/v1/items/fire-hydrants/geojson: HTTP Error 400: Bad Request\n",
      "2025-04-01 11:32:35,101 - src.data_collection - INFO - Trying to download pressure zones from: https://data-cityofmadison.opendata.arcgis.com/datasets/cityofmadison::water-pressure-zones.geojson\n",
      "2025-04-01 11:32:35,207 - src.data_collection - WARNING - Failed to download pressure zones from https://data-cityofmadison.opendata.arcgis.com/datasets/cityofmadison::water-pressure-zones.geojson: HTTP Error 500: Internal Server Error\n",
      "2025-04-01 11:32:35,208 - src.data_collection - INFO - Trying to download pressure zones from: https://data-cityofmadison.opendata.arcgis.com/datasets/water-pressure-zones.geojson\n",
      "2025-04-01 11:32:35,308 - src.data_collection - WARNING - Failed to download pressure zones from https://data-cityofmadison.opendata.arcgis.com/datasets/water-pressure-zones.geojson: HTTP Error 403: Forbidden\n",
      "2025-04-01 11:32:35,308 - src.data_collection - INFO - Trying to download pressure zones from: https://data-cityofmadison.opendata.arcgis.com/api/download/v1/items/water-pressure-zones/geojson\n",
      "2025-04-01 11:32:36,448 - src.data_collection - WARNING - Failed to download pressure zones from https://data-cityofmadison.opendata.arcgis.com/api/download/v1/items/water-pressure-zones/geojson: HTTP Error 400: Bad Request\n",
      "2025-04-01 11:32:36,450 - src.data_collection - WARNING - All Madison GIS data downloads failed. Attempting to create sample data.\n",
      "2025-04-01 11:32:36,452 - src.data_collection - INFO - Creating sample GIS data for Madison, WI...\n",
      "2025-04-01 11:32:36,475 - pyogrio._io - INFO - Created 10 records\n",
      "2025-04-01 11:32:36,495 - pyogrio._io - INFO - Created 8 records\n",
      "2025-04-01 11:32:36,505 - pyogrio._io - INFO - Created 2 records\n",
      "2025-04-01 11:32:36,506 - src.data_collection - INFO - Created sample GIS data as fallback.\n",
      "2025-04-01 11:32:36,506 - src.data_collection - INFO - Madison GIS data available: water_mains, hydrants, pressure_zones\n"
     ]
    },
    {
     "name": "stdout",
     "output_type": "stream",
     "text": [
      "\n",
      "GIS Data Collection Results:\n",
      "- water_mains: 10 features\n"
     ]
    },
    {
     "data": {
      "text/html": [
       "<div>\n",
       "<style scoped>\n",
       "    .dataframe tbody tr th:only-of-type {\n",
       "        vertical-align: middle;\n",
       "    }\n",
       "\n",
       "    .dataframe tbody tr th {\n",
       "        vertical-align: top;\n",
       "    }\n",
       "\n",
       "    .dataframe thead th {\n",
       "        text-align: right;\n",
       "    }\n",
       "</style>\n",
       "<table border=\"1\" class=\"dataframe\">\n",
       "  <thead>\n",
       "    <tr style=\"text-align: right;\">\n",
       "      <th></th>\n",
       "      <th>id</th>\n",
       "      <th>diameter_mm</th>\n",
       "      <th>length_m</th>\n",
       "      <th>roughness</th>\n",
       "      <th>geometry</th>\n",
       "    </tr>\n",
       "  </thead>\n",
       "  <tbody>\n",
       "    <tr>\n",
       "      <th>0</th>\n",
       "      <td>M0</td>\n",
       "      <td>100</td>\n",
       "      <td>1000</td>\n",
       "      <td>100</td>\n",
       "      <td>LINESTRING (-89.4512 43.0231, -89.4312 43.0431)</td>\n",
       "    </tr>\n",
       "    <tr>\n",
       "      <th>1</th>\n",
       "      <td>M1</td>\n",
       "      <td>150</td>\n",
       "      <td>1100</td>\n",
       "      <td>100</td>\n",
       "      <td>LINESTRING (-89.4262 43.0231, -89.4062 43.0431)</td>\n",
       "    </tr>\n",
       "  </tbody>\n",
       "</table>\n",
       "</div>"
      ],
      "text/plain": [
       "   id  diameter_mm  length_m  roughness  \\\n",
       "0  M0          100      1000        100   \n",
       "1  M1          150      1100        100   \n",
       "\n",
       "                                          geometry  \n",
       "0  LINESTRING (-89.4512 43.0231, -89.4312 43.0431)  \n",
       "1  LINESTRING (-89.4262 43.0231, -89.4062 43.0431)  "
      ]
     },
     "metadata": {},
     "output_type": "display_data"
    },
    {
     "name": "stdout",
     "output_type": "stream",
     "text": [
      "- hydrants: 8 features\n"
     ]
    },
    {
     "data": {
      "text/html": [
       "<div>\n",
       "<style scoped>\n",
       "    .dataframe tbody tr th:only-of-type {\n",
       "        vertical-align: middle;\n",
       "    }\n",
       "\n",
       "    .dataframe tbody tr th {\n",
       "        vertical-align: top;\n",
       "    }\n",
       "\n",
       "    .dataframe thead th {\n",
       "        text-align: right;\n",
       "    }\n",
       "</style>\n",
       "<table border=\"1\" class=\"dataframe\">\n",
       "  <thead>\n",
       "    <tr style=\"text-align: right;\">\n",
       "      <th></th>\n",
       "      <th>id</th>\n",
       "      <th>status</th>\n",
       "      <th>geometry</th>\n",
       "    </tr>\n",
       "  </thead>\n",
       "  <tbody>\n",
       "    <tr>\n",
       "      <th>0</th>\n",
       "      <td>H0</td>\n",
       "      <td>Active</td>\n",
       "      <td>POINT (-89.4412 43.0331)</td>\n",
       "    </tr>\n",
       "    <tr>\n",
       "      <th>1</th>\n",
       "      <td>H1</td>\n",
       "      <td>Active</td>\n",
       "      <td>POINT (-89.4162 43.0331)</td>\n",
       "    </tr>\n",
       "  </tbody>\n",
       "</table>\n",
       "</div>"
      ],
      "text/plain": [
       "   id  status                  geometry\n",
       "0  H0  Active  POINT (-89.4412 43.0331)\n",
       "1  H1  Active  POINT (-89.4162 43.0331)"
      ]
     },
     "metadata": {},
     "output_type": "display_data"
    },
    {
     "name": "stdout",
     "output_type": "stream",
     "text": [
      "- pressure_zones: 2 features\n"
     ]
    },
    {
     "data": {
      "text/html": [
       "<div>\n",
       "<style scoped>\n",
       "    .dataframe tbody tr th:only-of-type {\n",
       "        vertical-align: middle;\n",
       "    }\n",
       "\n",
       "    .dataframe tbody tr th {\n",
       "        vertical-align: top;\n",
       "    }\n",
       "\n",
       "    .dataframe thead th {\n",
       "        text-align: right;\n",
       "    }\n",
       "</style>\n",
       "<table border=\"1\" class=\"dataframe\">\n",
       "  <thead>\n",
       "    <tr style=\"text-align: right;\">\n",
       "      <th></th>\n",
       "      <th>id</th>\n",
       "      <th>name</th>\n",
       "      <th>pressure</th>\n",
       "      <th>geometry</th>\n",
       "    </tr>\n",
       "  </thead>\n",
       "  <tbody>\n",
       "    <tr>\n",
       "      <th>0</th>\n",
       "      <td>Z0</td>\n",
       "      <td>Zone 1</td>\n",
       "      <td>40</td>\n",
       "      <td>POLYGON ((-89.4612 43.0131, -89.4012 43.0131, ...</td>\n",
       "    </tr>\n",
       "    <tr>\n",
       "      <th>1</th>\n",
       "      <td>Z1</td>\n",
       "      <td>Zone 2</td>\n",
       "      <td>50</td>\n",
       "      <td>POLYGON ((-89.4312 43.0131, -89.3712 43.0131, ...</td>\n",
       "    </tr>\n",
       "  </tbody>\n",
       "</table>\n",
       "</div>"
      ],
      "text/plain": [
       "   id    name  pressure                                           geometry\n",
       "0  Z0  Zone 1        40  POLYGON ((-89.4612 43.0131, -89.4012 43.0131, ...\n",
       "1  Z1  Zone 2        50  POLYGON ((-89.4312 43.0131, -89.3712 43.0131, ..."
      ]
     },
     "metadata": {},
     "output_type": "display_data"
    }
   ],
   "source": [
    "# Import the DataCollector class\n",
    "from src.data_collection import DataCollector\n",
    "\n",
    "# Create an instance of the DataCollector\n",
    "collector = DataCollector()\n",
    "\n",
    "# Fetch Madison water infrastructure GIS data\n",
    "print(\"Collecting Madison water infrastructure GIS data...\")\n",
    "gis_data = collector.fetch_madison_water_gis()\n",
    "\n",
    "# Display summary of GIS data collection results\n",
    "if gis_data:\n",
    "    print(\"\\nGIS Data Collection Results:\")\n",
    "    for key, gdf in gis_data.items():\n",
    "        if isinstance(gdf, gpd.GeoDataFrame):\n",
    "            print(f\"- {key}: {len(gdf)} features\")\n",
    "            # Show first few rows of each dataset\n",
    "            display(gdf.head(2))"
   ]
  },
  {
   "cell_type": "markdown",
   "metadata": {},
   "source": [
    "### 2.1 USGS Water Data\n",
    "\n",
    "Now, let's fetch USGS water data for the Madison area:"
   ]
  },
  {
   "cell_type": "code",
   "execution_count": 13,
   "metadata": {},
   "outputs": [
    {
     "name": "stderr",
     "output_type": "stream",
     "text": [
      "2025-04-01 10:54:54,903 - src.data_collection - INFO - Fetching USGS water data for the past 30 days...\n",
      "2025-04-01 10:54:54,904 - src.data_collection - INFO - Identifying USGS water monitoring sites in Madison area...\n"
     ]
    },
    {
     "name": "stdout",
     "output_type": "stream",
     "text": [
      "Collecting USGS water data...\n"
     ]
    },
    {
     "name": "stderr",
     "output_type": "stream",
     "text": [
      "2025-04-01 10:54:55,615 - src.data_collection - WARNING - First method failed: Bad Request, check that your parameters are correct. URL: https://waterservices.usgs.gov/nwis/iv?format=json&bBox=-89.5417%2C43.0233%2C-89.2349%2C43.171&siteType=ST%2CGW&hasDataTypeCd=dv&siteStatus=active&startDT=site\n",
      "2025-04-01 10:54:55,615 - src.data_collection - ERROR - Fallback method also failed: Query must specify a major filter: sites, stateCd, bBox, huc, or countyCd\n",
      "2025-04-01 10:54:55,616 - src.data_collection - INFO - Creating sample USGS site data for Madison, WI...\n",
      "2025-04-01 10:54:55,619 - src.data_collection - INFO - Created sample site data as fallback.\n",
      "2025-04-01 10:54:55,622 - src.data_collection - INFO - Retrieving streamflow data for test sites: ['5430500', '5430501', '5430502']\n",
      "2025-04-01 10:54:55,871 - src.data_collection - WARNING - Error getting streamflow data: Bad Request, check that your parameters are correct. URL: https://waterservices.usgs.gov/nwis/dv?format=json&parameterCd=00060&startDT=2025-03-02&endDT=2025-04-01&sites=5430500%2C5430501%2C5430502\n",
      "2025-04-01 10:54:55,873 - src.data_collection - INFO - Creating sample streamflow data...\n"
     ]
    },
    {
     "name": "stdout",
     "output_type": "stream",
     "text": [
      "\n",
      "USGS Data Collection Results:\n",
      "- streamflow: 155 records\n"
     ]
    },
    {
     "data": {
      "text/html": [
       "<div>\n",
       "<style scoped>\n",
       "    .dataframe tbody tr th:only-of-type {\n",
       "        vertical-align: middle;\n",
       "    }\n",
       "\n",
       "    .dataframe tbody tr th {\n",
       "        vertical-align: top;\n",
       "    }\n",
       "\n",
       "    .dataframe thead th {\n",
       "        text-align: right;\n",
       "    }\n",
       "</style>\n",
       "<table border=\"1\" class=\"dataframe\">\n",
       "  <thead>\n",
       "    <tr style=\"text-align: right;\">\n",
       "      <th></th>\n",
       "      <th>site_no</th>\n",
       "      <th>datetime</th>\n",
       "      <th>value</th>\n",
       "      <th>parameter_cd</th>\n",
       "      <th>qualifier_cd</th>\n",
       "      <th>agency_cd</th>\n",
       "    </tr>\n",
       "  </thead>\n",
       "  <tbody>\n",
       "    <tr>\n",
       "      <th>0</th>\n",
       "      <td>5430500</td>\n",
       "      <td>2025-03-02 10:54:54.904721</td>\n",
       "      <td>51.828334</td>\n",
       "      <td>00060</td>\n",
       "      <td></td>\n",
       "      <td>USGS</td>\n",
       "    </tr>\n",
       "    <tr>\n",
       "      <th>1</th>\n",
       "      <td>5430500</td>\n",
       "      <td>2025-03-03 10:54:54.904721</td>\n",
       "      <td>47.437599</td>\n",
       "      <td>00060</td>\n",
       "      <td></td>\n",
       "      <td>USGS</td>\n",
       "    </tr>\n",
       "  </tbody>\n",
       "</table>\n",
       "</div>"
      ],
      "text/plain": [
       "   site_no                   datetime      value parameter_cd qualifier_cd  \\\n",
       "0  5430500 2025-03-02 10:54:54.904721  51.828334        00060                \n",
       "1  5430500 2025-03-03 10:54:54.904721  47.437599        00060                \n",
       "\n",
       "  agency_cd  \n",
       "0      USGS  \n",
       "1      USGS  "
      ]
     },
     "metadata": {},
     "output_type": "display_data"
    }
   ],
   "source": [
    "# Fetch USGS water data (streams and groundwater)\n",
    "print(\"Collecting USGS water data...\")\n",
    "usgs_data = collector.fetch_usgs_water_data(days=30)\n",
    "\n",
    "# Display summary of USGS data collection results\n",
    "if usgs_data:\n",
    "    print(\"\\nUSGS Data Collection Results:\")\n",
    "    for key, df in usgs_data.items():\n",
    "        if isinstance(df, pd.DataFrame):\n",
    "            print(f\"- {key}: {len(df)} records\")\n",
    "            # Show first few rows\n",
    "            display(df.head(2))"
   ]
  },
  {
   "cell_type": "markdown",
   "metadata": {},
   "source": [
    "### 2.2 EPA Water Quality Data\n",
    "\n",
    "Next, we'll collect EPA water quality data:"
   ]
  },
  {
   "cell_type": "code",
   "execution_count": 19,
   "metadata": {},
   "outputs": [
    {
     "name": "stderr",
     "output_type": "stream",
     "text": [
      "2025-04-01 11:33:13,008 - src.data_collection - INFO - Fetching EPA water quality data...\n",
      "2025-04-01 11:33:13,009 - src.data_collection - INFO - Trying to fetch EPA data from: https://enviro.epa.gov/efservice/SDW_WATER_SYSTEM/PRIMACY_AGENCY_CODE/WI/CITY_NAME/MADISON/JSON\n"
     ]
    },
    {
     "name": "stdout",
     "output_type": "stream",
     "text": [
      "Collecting EPA water quality data...\n"
     ]
    },
    {
     "name": "stderr",
     "output_type": "stream",
     "text": [
      "2025-04-01 11:33:13,512 - src.data_collection - WARNING - EPA API request failed (attempt 1/3): Expecting value: line 1 column 1 (char 0)\n",
      "2025-04-01 11:33:14,513 - src.data_collection - INFO - Trying to fetch EPA data from: https://enviro.epa.gov/efservice/SDW_WATER_SYSTEM/PRIMACY_AGENCY_CODE/WI/CITY_NAME/MADISON/JSON\n",
      "2025-04-01 11:33:14,816 - src.data_collection - WARNING - EPA API request failed (attempt 2/3): Expecting value: line 1 column 1 (char 0)\n",
      "2025-04-01 11:33:16,818 - src.data_collection - INFO - Trying to fetch EPA data from: https://enviro.epa.gov/efservice/SDW_WATER_SYSTEM/PRIMACY_AGENCY_CODE/WI/CITY_NAME/MADISON/JSON\n",
      "2025-04-01 11:33:16,994 - src.data_collection - WARNING - EPA API request failed (attempt 3/3): Expecting value: line 1 column 1 (char 0)\n",
      "2025-04-01 11:33:16,996 - src.data_collection - ERROR - All attempts failed for https://enviro.epa.gov/efservice/SDW_WATER_SYSTEM/PRIMACY_AGENCY_CODE/WI/CITY_NAME/MADISON/JSON\n",
      "2025-04-01 11:33:19,997 - src.data_collection - INFO - Trying to fetch EPA data from: https://enviro.epa.gov/enviro/efservice/SDW_WATER_SYSTEM/PRIMACY_AGENCY_CODE/WI/CITY_NAME/MADISON/JSON\n",
      "2025-04-01 11:33:26,011 - src.data_collection - WARNING - EPA API request failed (attempt 1/3): 404 Client Error: NOT FOUND for url: https://data.epa.gov/efservice/SDW_WATER_SYSTEM/PRIMACY_AGENCY_CODE/WI/CITY_NAME/MADISON/JSON\n",
      "2025-04-01 11:33:27,013 - src.data_collection - INFO - Trying to fetch EPA data from: https://enviro.epa.gov/enviro/efservice/SDW_WATER_SYSTEM/PRIMACY_AGENCY_CODE/WI/CITY_NAME/MADISON/JSON\n",
      "2025-04-01 11:33:29,289 - src.data_collection - WARNING - EPA API request failed (attempt 2/3): 404 Client Error: NOT FOUND for url: https://data.epa.gov/efservice/SDW_WATER_SYSTEM/PRIMACY_AGENCY_CODE/WI/CITY_NAME/MADISON/JSON\n",
      "2025-04-01 11:33:31,292 - src.data_collection - INFO - Trying to fetch EPA data from: https://enviro.epa.gov/enviro/efservice/SDW_WATER_SYSTEM/PRIMACY_AGENCY_CODE/WI/CITY_NAME/MADISON/JSON\n",
      "2025-04-01 11:33:32,667 - src.data_collection - WARNING - EPA API request failed (attempt 3/3): 404 Client Error: NOT FOUND for url: https://data.epa.gov/efservice/SDW_WATER_SYSTEM/PRIMACY_AGENCY_CODE/WI/CITY_NAME/MADISON/JSON\n",
      "2025-04-01 11:33:32,668 - src.data_collection - ERROR - All attempts failed for https://enviro.epa.gov/enviro/efservice/SDW_WATER_SYSTEM/PRIMACY_AGENCY_CODE/WI/CITY_NAME/MADISON/JSON\n",
      "2025-04-01 11:33:35,669 - src.data_collection - WARNING - All EPA API requests failed. Creating sample data.\n",
      "2025-04-01 11:33:35,671 - src.data_collection - INFO - Creating sample EPA water quality data for Madison, WI...\n",
      "2025-04-01 11:33:35,682 - src.data_collection - INFO - EPA water system data retrieved/created successfully.\n"
     ]
    },
    {
     "name": "stdout",
     "output_type": "stream",
     "text": [
      "\n",
      "EPA Water Quality Data: 3 water systems\n"
     ]
    },
    {
     "data": {
      "text/html": [
       "<div>\n",
       "<style scoped>\n",
       "    .dataframe tbody tr th:only-of-type {\n",
       "        vertical-align: middle;\n",
       "    }\n",
       "\n",
       "    .dataframe tbody tr th {\n",
       "        vertical-align: top;\n",
       "    }\n",
       "\n",
       "    .dataframe thead th {\n",
       "        text-align: right;\n",
       "    }\n",
       "</style>\n",
       "<table border=\"1\" class=\"dataframe\">\n",
       "  <thead>\n",
       "    <tr style=\"text-align: right;\">\n",
       "      <th></th>\n",
       "      <th>PWSID</th>\n",
       "      <th>PWS_NAME</th>\n",
       "      <th>CITY_NAME</th>\n",
       "      <th>STATE_CODE</th>\n",
       "      <th>SOURCE_WATER</th>\n",
       "      <th>POPULATION_SERVED_COUNT</th>\n",
       "      <th>PRIMARY_SOURCE_CODE</th>\n",
       "      <th>PRIMARY_SOURCE</th>\n",
       "      <th>EPA_REGION</th>\n",
       "    </tr>\n",
       "  </thead>\n",
       "  <tbody>\n",
       "    <tr>\n",
       "      <th>0</th>\n",
       "      <td>WI5502001</td>\n",
       "      <td>MADISON WATER UTILITY 1</td>\n",
       "      <td>MADISON</td>\n",
       "      <td>WI</td>\n",
       "      <td>GW</td>\n",
       "      <td>250000</td>\n",
       "      <td>GW</td>\n",
       "      <td>Ground water</td>\n",
       "      <td>05</td>\n",
       "    </tr>\n",
       "    <tr>\n",
       "      <th>1</th>\n",
       "      <td>WI5502002</td>\n",
       "      <td>MADISON WATER UTILITY 2</td>\n",
       "      <td>MADISON</td>\n",
       "      <td>WI</td>\n",
       "      <td>GW</td>\n",
       "      <td>240000</td>\n",
       "      <td>GW</td>\n",
       "      <td>Ground water</td>\n",
       "      <td>05</td>\n",
       "    </tr>\n",
       "  </tbody>\n",
       "</table>\n",
       "</div>"
      ],
      "text/plain": [
       "       PWSID                 PWS_NAME CITY_NAME STATE_CODE SOURCE_WATER  \\\n",
       "0  WI5502001  MADISON WATER UTILITY 1   MADISON         WI           GW   \n",
       "1  WI5502002  MADISON WATER UTILITY 2   MADISON         WI           GW   \n",
       "\n",
       "   POPULATION_SERVED_COUNT PRIMARY_SOURCE_CODE PRIMARY_SOURCE EPA_REGION  \n",
       "0                   250000                  GW   Ground water         05  \n",
       "1                   240000                  GW   Ground water         05  "
      ]
     },
     "metadata": {},
     "output_type": "display_data"
    }
   ],
   "source": [
    "# Fetch EPA water quality data\n",
    "print(\"Collecting EPA water quality data...\")\n",
    "epa_data = collector.fetch_epa_water_quality()\n",
    "\n",
    "# Display summary of EPA data collection\n",
    "if isinstance(epa_data, pd.DataFrame):\n",
    "    print(f\"\\nEPA Water Quality Data: {len(epa_data)} water systems\")\n",
    "    display(epa_data.head(2))"
   ]
  },
  {
   "cell_type": "markdown",
   "metadata": {},
   "source": [
    "### 2.3 Elevation Data\n",
    "\n",
    "Finally, let's collect elevation data for the Madison area:"
   ]
  },
  {
   "cell_type": "code",
   "execution_count": 20,
   "metadata": {},
   "outputs": [
    {
     "name": "stderr",
     "output_type": "stream",
     "text": [
      "2025-04-01 11:33:43,712 - src.data_collection - INFO - Fetching elevation data for Madison area...\n",
      "2025-04-01 11:33:43,713 - src.data_collection - INFO - Trying dataset: Digital Elevation Model (DEM) 1/3 arc-second\n"
     ]
    },
    {
     "name": "stdout",
     "output_type": "stream",
     "text": [
      "Collecting elevation data...\n"
     ]
    },
    {
     "name": "stderr",
     "output_type": "stream",
     "text": [
      "2025-04-01 11:33:44,649 - src.data_collection - WARNING - No elevation data found for dataset: Digital Elevation Model (DEM) 1/3 arc-second\n",
      "2025-04-01 11:33:44,650 - src.data_collection - INFO - Trying dataset: Digital Elevation Model (DEM) 1 arc-second\n",
      "2025-04-01 11:33:45,367 - src.data_collection - WARNING - No elevation data found for dataset: Digital Elevation Model (DEM) 1 arc-second\n",
      "2025-04-01 11:33:45,369 - src.data_collection - INFO - Trying dataset: Digital Elevation Model (DEM) 1 meter\n",
      "2025-04-01 11:33:46,083 - src.data_collection - WARNING - No elevation data found for dataset: Digital Elevation Model (DEM) 1 meter\n",
      "2025-04-01 11:33:46,085 - src.data_collection - WARNING - Could not download elevation data from any source. Creating sample elevation data.\n",
      "2025-04-01 11:33:46,251 - src.data_collection - INFO - Created sample elevation data as fallback.\n"
     ]
    },
    {
     "name": "stdout",
     "output_type": "stream",
     "text": [
      "\n",
      "Elevation data saved to: data/raw/madison_elevation.tif\n"
     ]
    }
   ],
   "source": [
    "# Fetch elevation data\n",
    "print(\"Collecting elevation data...\")\n",
    "elevation_path = collector.fetch_elevation_data()\n",
    "\n",
    "if elevation_path:\n",
    "    print(f\"\\nElevation data saved to: {elevation_path}\")"
   ]
  },
  {
   "cell_type": "markdown",
   "metadata": {},
   "source": [
    "### 2.4 Complete Data Collection Summary\n",
    "\n",
    "Let's fetch all data at once and summarize the results:"
   ]
  },
  {
   "cell_type": "code",
   "execution_count": 21,
   "metadata": {},
   "outputs": [
    {
     "name": "stderr",
     "output_type": "stream",
     "text": [
      "2025-04-01 11:34:02,223 - src.data_collection - INFO - Starting complete data collection for Madison, WI...\n",
      "2025-04-01 11:34:02,224 - src.data_collection - INFO - Fetching Madison water infrastructure GIS data...\n",
      "2025-04-01 11:34:02,224 - src.data_collection - INFO - Trying to download water mains from: https://data-cityofmadison.opendata.arcgis.com/datasets/cityofmadison::water-mains.geojson\n",
      "2025-04-01 11:34:02,366 - src.data_collection - WARNING - Failed to download water mains from https://data-cityofmadison.opendata.arcgis.com/datasets/cityofmadison::water-mains.geojson: HTTP Error 500: Internal Server Error\n",
      "2025-04-01 11:34:02,367 - src.data_collection - INFO - Trying to download water mains from: https://data-cityofmadison.opendata.arcgis.com/datasets/water-mains.geojson\n",
      "2025-04-01 11:34:02,462 - src.data_collection - WARNING - Failed to download water mains from https://data-cityofmadison.opendata.arcgis.com/datasets/water-mains.geojson: HTTP Error 403: Forbidden\n",
      "2025-04-01 11:34:02,463 - src.data_collection - INFO - Trying to download water mains from: https://data-cityofmadison.opendata.arcgis.com/api/download/v1/items/water-mains/geojson\n",
      "2025-04-01 11:34:02,771 - src.data_collection - WARNING - Failed to download water mains from https://data-cityofmadison.opendata.arcgis.com/api/download/v1/items/water-mains/geojson: HTTP Error 400: Bad Request\n",
      "2025-04-01 11:34:02,772 - src.data_collection - INFO - Trying to download hydrants from: https://data-cityofmadison.opendata.arcgis.com/datasets/cityofmadison::fire-hydrants.geojson\n",
      "2025-04-01 11:34:02,892 - src.data_collection - WARNING - Failed to download hydrants from https://data-cityofmadison.opendata.arcgis.com/datasets/cityofmadison::fire-hydrants.geojson: HTTP Error 500: Internal Server Error\n",
      "2025-04-01 11:34:02,893 - src.data_collection - INFO - Trying to download hydrants from: https://data-cityofmadison.opendata.arcgis.com/datasets/fire-hydrants.geojson\n",
      "2025-04-01 11:34:02,977 - src.data_collection - WARNING - Failed to download hydrants from https://data-cityofmadison.opendata.arcgis.com/datasets/fire-hydrants.geojson: HTTP Error 403: Forbidden\n",
      "2025-04-01 11:34:02,978 - src.data_collection - INFO - Trying to download hydrants from: https://data-cityofmadison.opendata.arcgis.com/api/download/v1/items/fire-hydrants/geojson\n",
      "2025-04-01 11:34:04,001 - src.data_collection - WARNING - Failed to download hydrants from https://data-cityofmadison.opendata.arcgis.com/api/download/v1/items/fire-hydrants/geojson: HTTP Error 400: Bad Request\n",
      "2025-04-01 11:34:04,004 - src.data_collection - INFO - Trying to download pressure zones from: https://data-cityofmadison.opendata.arcgis.com/datasets/cityofmadison::water-pressure-zones.geojson\n",
      "2025-04-01 11:34:04,140 - src.data_collection - WARNING - Failed to download pressure zones from https://data-cityofmadison.opendata.arcgis.com/datasets/cityofmadison::water-pressure-zones.geojson: HTTP Error 500: Internal Server Error\n",
      "2025-04-01 11:34:04,142 - src.data_collection - INFO - Trying to download pressure zones from: https://data-cityofmadison.opendata.arcgis.com/datasets/water-pressure-zones.geojson\n",
      "2025-04-01 11:34:04,237 - src.data_collection - WARNING - Failed to download pressure zones from https://data-cityofmadison.opendata.arcgis.com/datasets/water-pressure-zones.geojson: HTTP Error 403: Forbidden\n",
      "2025-04-01 11:34:04,237 - src.data_collection - INFO - Trying to download pressure zones from: https://data-cityofmadison.opendata.arcgis.com/api/download/v1/items/water-pressure-zones/geojson\n",
      "2025-04-01 11:34:05,331 - src.data_collection - WARNING - Failed to download pressure zones from https://data-cityofmadison.opendata.arcgis.com/api/download/v1/items/water-pressure-zones/geojson: HTTP Error 400: Bad Request\n",
      "2025-04-01 11:34:05,332 - src.data_collection - WARNING - All Madison GIS data downloads failed. Attempting to create sample data.\n",
      "2025-04-01 11:34:05,333 - src.data_collection - INFO - Creating sample GIS data for Madison, WI...\n",
      "2025-04-01 11:34:05,338 - pyogrio._io - INFO - Created 10 records\n",
      "2025-04-01 11:34:05,343 - pyogrio._io - INFO - Created 8 records\n",
      "2025-04-01 11:34:05,347 - pyogrio._io - INFO - Created 2 records\n",
      "2025-04-01 11:34:05,348 - src.data_collection - INFO - Created sample GIS data as fallback.\n",
      "2025-04-01 11:34:05,348 - src.data_collection - INFO - Madison GIS data available: water_mains, hydrants, pressure_zones\n",
      "2025-04-01 11:34:05,349 - src.data_collection - INFO - Fetching USGS water data for the past 30 days...\n",
      "2025-04-01 11:34:05,349 - src.data_collection - INFO - Identifying USGS water monitoring sites in Madison area...\n",
      "2025-04-01 11:34:05,647 - src.data_collection - WARNING - First method failed: Bad Request, check that your parameters are correct. URL: https://waterservices.usgs.gov/nwis/iv?format=json&bBox=-89.5417%2C43.0233%2C-89.2349%2C43.171&siteType=ST%2CGW&hasDataTypeCd=dv&siteStatus=active&startDT=site\n",
      "2025-04-01 11:34:05,647 - src.data_collection - ERROR - Fallback method also failed: Query must specify a major filter: sites, stateCd, bBox, huc, or countyCd\n",
      "2025-04-01 11:34:05,648 - src.data_collection - INFO - Creating sample USGS site data for Madison, WI...\n",
      "2025-04-01 11:34:05,650 - src.data_collection - INFO - Created sample site data as fallback.\n",
      "2025-04-01 11:34:05,653 - src.data_collection - INFO - Retrieving streamflow data for test sites: ['5430500', '5430501', '5430502']\n",
      "2025-04-01 11:34:05,765 - src.data_collection - WARNING - Error getting streamflow data: Bad Request, check that your parameters are correct. URL: https://waterservices.usgs.gov/nwis/dv?format=json&parameterCd=00060&startDT=2025-03-02&endDT=2025-04-01&sites=5430500%2C5430501%2C5430502\n",
      "2025-04-01 11:34:05,766 - src.data_collection - INFO - Creating sample streamflow data...\n",
      "2025-04-01 11:34:05,773 - src.data_collection - INFO - Fetching EPA water quality data...\n",
      "2025-04-01 11:34:05,773 - src.data_collection - INFO - Trying to fetch EPA data from: https://enviro.epa.gov/efservice/SDW_WATER_SYSTEM/PRIMACY_AGENCY_CODE/WI/CITY_NAME/MADISON/JSON\n",
      "2025-04-01 11:34:05,936 - src.data_collection - WARNING - EPA API request failed (attempt 1/3): Expecting value: line 1 column 1 (char 0)\n",
      "2025-04-01 11:34:06,937 - src.data_collection - INFO - Trying to fetch EPA data from: https://enviro.epa.gov/efservice/SDW_WATER_SYSTEM/PRIMACY_AGENCY_CODE/WI/CITY_NAME/MADISON/JSON\n",
      "2025-04-01 11:34:07,132 - src.data_collection - WARNING - EPA API request failed (attempt 2/3): Expecting value: line 1 column 1 (char 0)\n",
      "2025-04-01 11:34:09,133 - src.data_collection - INFO - Trying to fetch EPA data from: https://enviro.epa.gov/efservice/SDW_WATER_SYSTEM/PRIMACY_AGENCY_CODE/WI/CITY_NAME/MADISON/JSON\n",
      "2025-04-01 11:34:09,300 - src.data_collection - WARNING - EPA API request failed (attempt 3/3): Expecting value: line 1 column 1 (char 0)\n",
      "2025-04-01 11:34:09,303 - src.data_collection - ERROR - All attempts failed for https://enviro.epa.gov/efservice/SDW_WATER_SYSTEM/PRIMACY_AGENCY_CODE/WI/CITY_NAME/MADISON/JSON\n",
      "2025-04-01 11:34:12,306 - src.data_collection - INFO - Trying to fetch EPA data from: https://enviro.epa.gov/enviro/efservice/SDW_WATER_SYSTEM/PRIMACY_AGENCY_CODE/WI/CITY_NAME/MADISON/JSON\n",
      "2025-04-01 11:34:14,652 - src.data_collection - WARNING - EPA API request failed (attempt 1/3): 404 Client Error: NOT FOUND for url: https://data.epa.gov/efservice/SDW_WATER_SYSTEM/PRIMACY_AGENCY_CODE/WI/CITY_NAME/MADISON/JSON\n",
      "2025-04-01 11:34:15,655 - src.data_collection - INFO - Trying to fetch EPA data from: https://enviro.epa.gov/enviro/efservice/SDW_WATER_SYSTEM/PRIMACY_AGENCY_CODE/WI/CITY_NAME/MADISON/JSON\n",
      "2025-04-01 11:34:17,212 - src.data_collection - WARNING - EPA API request failed (attempt 2/3): 404 Client Error: NOT FOUND for url: https://data.epa.gov/efservice/SDW_WATER_SYSTEM/PRIMACY_AGENCY_CODE/WI/CITY_NAME/MADISON/JSON\n",
      "2025-04-01 11:34:19,214 - src.data_collection - INFO - Trying to fetch EPA data from: https://enviro.epa.gov/enviro/efservice/SDW_WATER_SYSTEM/PRIMACY_AGENCY_CODE/WI/CITY_NAME/MADISON/JSON\n",
      "2025-04-01 11:34:22,434 - src.data_collection - WARNING - EPA API request failed (attempt 3/3): 404 Client Error: NOT FOUND for url: https://data.epa.gov/efservice/SDW_WATER_SYSTEM/PRIMACY_AGENCY_CODE/WI/CITY_NAME/MADISON/JSON\n",
      "2025-04-01 11:34:22,436 - src.data_collection - ERROR - All attempts failed for https://enviro.epa.gov/enviro/efservice/SDW_WATER_SYSTEM/PRIMACY_AGENCY_CODE/WI/CITY_NAME/MADISON/JSON\n",
      "2025-04-01 11:34:25,438 - src.data_collection - WARNING - All EPA API requests failed. Creating sample data.\n",
      "2025-04-01 11:34:25,440 - src.data_collection - INFO - Creating sample EPA water quality data for Madison, WI...\n",
      "2025-04-01 11:34:25,449 - src.data_collection - INFO - EPA water system data retrieved/created successfully.\n",
      "2025-04-01 11:34:25,451 - src.data_collection - INFO - Fetching elevation data for Madison area...\n",
      "2025-04-01 11:34:25,454 - src.data_collection - INFO - Trying dataset: Digital Elevation Model (DEM) 1/3 arc-second\n",
      "2025-04-01 11:34:25,526 - src.data_collection - WARNING - No elevation data found for dataset: Digital Elevation Model (DEM) 1/3 arc-second\n",
      "2025-04-01 11:34:25,526 - src.data_collection - INFO - Trying dataset: Digital Elevation Model (DEM) 1 arc-second\n",
      "2025-04-01 11:34:25,612 - src.data_collection - WARNING - No elevation data found for dataset: Digital Elevation Model (DEM) 1 arc-second\n",
      "2025-04-01 11:34:25,614 - src.data_collection - INFO - Trying dataset: Digital Elevation Model (DEM) 1 meter\n",
      "2025-04-01 11:34:25,715 - src.data_collection - WARNING - No elevation data found for dataset: Digital Elevation Model (DEM) 1 meter\n",
      "2025-04-01 11:34:25,717 - src.data_collection - WARNING - Could not download elevation data from any source. Creating sample elevation data.\n",
      "2025-04-01 11:34:25,746 - src.data_collection - INFO - Created sample elevation data as fallback.\n",
      "2025-04-01 11:34:25,749 - src.data_collection - INFO - Data collection complete.\n"
     ]
    },
    {
     "name": "stdout",
     "output_type": "stream",
     "text": [
      "Summary of all collected data:\n",
      "\n",
      "GIS:\n",
      "  - water_mains: 10 features\n",
      "  - hydrants: 8 features\n",
      "  - pressure_zones: 2 features\n",
      "\n",
      "USGS:\n",
      "  - streamflow: 155 records\n",
      "\n",
      "EPA:\n",
      "  - Water systems: 3 records\n",
      "\n",
      "ELEVATION:\n",
      "  - Elevation data: data/raw/madison_elevation.tif\n"
     ]
    }
   ],
   "source": [
    "# Fetch all data at once\n",
    "all_data = collector.fetch_all_data()\n",
    "\n",
    "# Provide a summary of all collected data\n",
    "print(\"Summary of all collected data:\")\n",
    "for category, data in all_data.items():\n",
    "    print(f\"\\n{category.upper()}:\")\n",
    "    if category == 'gis':\n",
    "        for layer_name, layer_data in data.items():\n",
    "            if isinstance(layer_data, gpd.GeoDataFrame):\n",
    "                print(f\"  - {layer_name}: {len(layer_data)} features\")\n",
    "    elif category == 'usgs':\n",
    "        for dataset, dataset_data in data.items():\n",
    "            if isinstance(dataset_data, pd.DataFrame):\n",
    "                print(f\"  - {dataset}: {len(dataset_data)} records\")\n",
    "    elif category == 'epa':\n",
    "        if isinstance(data, pd.DataFrame):\n",
    "            print(f\"  - Water systems: {len(data)} records\")\n",
    "    elif category == 'elevation':\n",
    "        print(f\"  - Elevation data: {data}\")"
   ]
  },
  {
   "cell_type": "markdown",
   "metadata": {},
   "source": [
    "## 3. Data Processing\n",
    "\n",
    "After collecting the raw data, we need to process it for use in our water distribution model. This includes:\n",
    "1. Cleaning water mains data\n",
    "2. Processing hydrants\n",
    "3. Processing pressure zones\n",
    "4. Extracting elevation data for junctions\n",
    "5. Creating an EPANET network model\n",
    "\n",
    "Let's import our data processing module and process the data:"
   ]
  },
  {
   "cell_type": "code",
   "execution_count": 22,
   "metadata": {},
   "outputs": [
    {
     "name": "stderr",
     "output_type": "stream",
     "text": [
      "2025-04-01 11:34:33,676 - src.data_processing - INFO - Cleaning water mains data...\n",
      "2025-04-01 11:34:33,683 - src.data_processing - INFO - Original water mains data: 10 rows\n",
      "2025-04-01 11:34:33,686 - src.data_processing - ERROR - Error processing water mains data: 'material'\n"
     ]
    },
    {
     "name": "stdout",
     "output_type": "stream",
     "text": [
      "Processing water mains data...\n"
     ]
    }
   ],
   "source": [
    "# Import the DataProcessor class\n",
    "from src.data_processing import DataProcessor\n",
    "\n",
    "# Create an instance of the DataProcessor\n",
    "processor = DataProcessor()\n",
    "\n",
    "# Clean and prepare water mains data\n",
    "print(\"Processing water mains data...\")\n",
    "water_mains = processor.clean_water_mains()\n",
    "\n",
    "if isinstance(water_mains, gpd.GeoDataFrame):\n",
    "    print(f\"\\nProcessed water mains: {len(water_mains)} pipes\")\n",
    "    display(water_mains.head(2))"
   ]
  },
  {
   "cell_type": "markdown",
   "metadata": {},
   "source": [
    "### 3.1 Processing Hydrants and Pressure Zones"
   ]
  },
  {
   "cell_type": "code",
   "execution_count": null,
   "metadata": {},
   "outputs": [],
   "source": [
    "# Process hydrants data\n",
    "print(\"Processing hydrants data...\")\n",
    "hydrants = processor.process_hydrants()\n",
    "\n",
    "if isinstance(hydrants, gpd.GeoDataFrame):\n",
    "    print(f\"\\nProcessed hydrants: {len(hydrants)} hydrants\")\n",
    "    display(hydrants.head(2))\n",
    "\n",
    "# Process pressure zones data\n",
    "print(\"\\nProcessing pressure zones data...\")\n",
    "pressure_zones = processor.process_pressure_zones()\n",
    "\n",
    "if isinstance(pressure_zones, gpd.GeoDataFrame):\n",
    "    print(f\"\\nProcessed pressure zones: {len(pressure_zones)} zones\")\n",
    "    display(pressure_zones.head(2))"
   ]
  },
  {
   "cell_type": "markdown",
   "metadata": {},
   "source": [
    "### 3.2 Creating a Network Model from Processed Data\n",
    "\n",
    "Now we'll create a network model for EPANET from our processed data:"
   ]
  },
  {
   "cell_type": "code",
   "execution_count": null,
   "metadata": {},
   "outputs": [],
   "source": [
    "# Create a subset area around downtown Madison for focused modeling\n",
    "downtown_madison = (-89.3837, 43.0731)  # Longitude, Latitude\n",
    "subset_area = processor.create_subset_area(downtown_madison, radius_km=3.0)\n",
    "\n",
    "print(\"Creating EPANET network data...\")\n",
    "network_data = processor.create_epanet_network_data(water_mains, subset_area)\n",
    "\n",
    "if network_data:\n",
    "    print(\"\\nEPANET Network Data:\")\n",
    "    print(f\"- Junctions: {len(network_data['junctions'])} features\")\n",
    "    print(f\"- Connections: {len(network_data['connections'])} features\")\n",
    "    if network_data['reservoir']:\n",
    "        print(f\"- Reservoir: {network_data['reservoir']['reservoir_id']} connected to {network_data['reservoir']['junction_id']}\")\n",
    "    \n",
    "    # Display first few junctions\n",
    "    display(network_data['junctions'].head(2))\n",
    "    \n",
    "    # Display first few connections\n",
    "    display(pd.DataFrame(network_data['connections']).head(2))"
   ]
  },
  {
   "cell_type": "markdown",
   "metadata": {},
   "source": [
    "### 3.3 Process All Data in One Step\n",
    "\n",
    "Now let's run the full data processing pipeline:"
   ]
  },
  {
   "cell_type": "code",
   "execution_count": null,
   "metadata": {},
   "outputs": [],
   "source": [
    "# Process all water distribution data with a spatial subset\n",
    "print(\"Processing all water distribution data...\")\n",
    "processed_data = processor.process_all_data(subset_area)\n",
    "\n",
    "if processed_data:\n",
    "    print(\"\\nComplete processed data summary:\")\n",
    "    for key, data in processed_data.items():\n",
    "        if key == 'network_data':\n",
    "            print(f\"\\n{key}:\")\n",
    "            print(f\"  - Junctions: {len(data['junctions'])} features\")\n",
    "            print(f\"  - Connections: {len(data['connections'])} features\")\n",
    "        elif isinstance(data, gpd.GeoDataFrame):\n",
    "            print(f\"\\n{key}: {len(data)} features\")"
   ]
  },
  {
   "cell_type": "markdown",
   "metadata": {},
   "source": [
    "## 4. EPANET Setup\n",
    "\n",
    "Before building our water distribution network model, we need to set up the EPANET command-line tool. EPANET is the hydraulic simulation engine we'll use to analyze water flow, pressure, and quality in our network."
   ]
  },
  {
   "cell_type": "code",
   "execution_count": null,
   "metadata": {},
   "outputs": [],
   "source": [
    "# Import the EPANET utility module\n",
    "from src.epanet_util import setup_epanet, verify_executable\n",
    "\n",
    "# Set up EPANET command-line tool\n",
    "print(\"Setting up EPANET command-line tool...\")\n",
    "epanet_setup_success = setup_epanet()\n",
    "\n",
    "if epanet_setup_success:\n",
    "    print(\"\\nEPANET setup successful.\")\n",
    "    \n",
    "    # Verify EPANET executable\n",
    "    if verify_executable():\n",
    "        print(\"EPANET executable verification successful.\")\n",
    "    else:\n",
    "        print(\"EPANET executable verification failed. A dummy executable was created.\")\n",
    "else:\n",
    "    print(\"\\nEPANET setup failed. Check logs for details.\")"
   ]
  },
  {
   "cell_type": "markdown",
   "metadata": {},
   "source": [
    "## 5. Network Modeling\n",
    "\n",
    "Now we'll build a network model from our processed GIS data. This involves:\n",
    "1. Creating a graph representation of the water distribution network\n",
    "2. Adding elevation data\n",
    "3. Adding junction demands\n",
    "4. Adding water sources (reservoirs and tanks)\n",
    "5. Generating an EPANET input file"
   ]
  },
  {
   "cell_type": "code",
   "execution_count": null,
   "metadata": {},
   "outputs": [],
   "source": [
    "# Import the NetworkBuilder class\n",
    "from src.network_model import NetworkBuilder\n",
    "\n",
    "# Create an instance of the NetworkBuilder\n",
    "builder = NetworkBuilder()\n",
    "\n",
    "# Paths to processed data\n",
    "mains_file = \"data/processed/processed_water_mains.geojson\"\n",
    "hydrants_file = \"data/processed/processed_hydrants.geojson\"\n",
    "pressure_zones_file = \"data/processed/processed_pressure_zones.geojson\"\n",
    "\n",
    "# Build network model from GIS data\n",
    "print(\"Building network model from GIS data...\")\n",
    "network_model = builder.build_from_gis(mains_file, hydrants_file, pressure_zones_file)\n",
    "\n",
    "if network_model:\n",
    "    print(\"\\nNetwork model built successfully.\")\n",
    "    \n",
    "    # Get network statistics\n",
    "    stats = builder.get_network_stats(network_model)\n",
    "    \n",
    "    print(\"\\nNetwork Statistics:\")\n",
    "    for key, value in stats.items():\n",
    "        print(f\"- {key}: {value}\")\n",
    "    \n",
    "    # Save the network model\n",
    "    model_file = \"data/output/network_model.json\"\n",
    "    builder.save_network(network_model, model_file)\n",
    "    print(f\"\\nNetwork model saved to {model_file}\")"
   ]
  },
  {
   "cell_type": "markdown",
   "metadata": {},
   "source": [
    "### 5.1 Visualizing the Network Graph Structure"
   ]
  },
  {
   "cell_type": "code",
   "execution_count": null,
   "metadata": {},
   "outputs": [],
   "source": [
    "# Visualize network graph structure\n",
    "if network_model:\n",
    "    G = network_model['graph']\n",
    "    \n",
    "    # Get node positions for visualization\n",
    "    pos = {}\n",
    "    node_colors = []\n",
    "    \n",
    "    for node in G.nodes():\n",
    "        # Get node attributes\n",
    "        attrs = G.nodes[node]\n",
    "        \n",
    "        if 'x' in attrs and 'y' in attrs:\n",
    "            pos[node] = (attrs['x'], attrs['y'])\n",
    "        \n",
    "        # Set node color based on type\n",
    "        if attrs.get('type') == 'junction':\n",
    "            node_colors.append('blue')\n",
    "        elif attrs.get('type') == 'reservoir':\n",
    "            node_colors.append('red')\n",
    "        elif attrs.get('type') == 'tank':\n",
    "            node_colors.append('green')\n",
    "        else:\n",
    "            node_colors.append('gray')\n",
    "    \n",
    "    # Create plot\n",
    "    plt.figure(figsize=(12, 10))\n",
    "    \n",
    "    # Draw nodes\n",
    "    nx.draw_networkx_nodes(G, pos, node_size=25, node_color=node_colors, alpha=0.7)\n",
    "    \n",
    "    # Draw edges\n",
    "    nx.draw_networkx_edges(G, pos, width=0.5, alpha=0.5)\n",
    "    \n",
    "    # Add labels to reservoirs and tanks only\n",
    "    labels = {node: node for node in G.nodes() \n",
    "              if G.nodes[node].get('type') in ['reservoir', 'tank']}\n",
    "    nx.draw_networkx_labels(G, pos, labels=labels, font_size=10)\n",
    "    \n",
    "    plt.title(\"Water Distribution Network\")\n",
    "    plt.axis('off')\n",
    "    plt.show()"
   ]
  },
  {
   "cell_type": "markdown",
   "metadata": {},
   "source": [
    "## 6. Hydraulic Simulation\n",
    "\n",
    "With our network model built, we can now run hydraulic simulations to analyze water flow, pressure, and other parameters throughout the network over time."
   ]
  },
  {
   "cell_type": "code",
   "execution_count": null,
   "metadata": {},
   "outputs": [],
   "source": [
    "# Import the EPANETSimulator class\n",
    "from src.simulation import EPANETSimulator\n",
    "\n",
    "# Create an instance of the EPANETSimulator\n",
    "simulator = EPANETSimulator()\n",
    "\n",
    "# Path to INP file\n",
    "inp_file = \"data/output/madison_network.inp\"\n",
    "\n",
    "# Run hydraulic simulation\n",
    "print(\"Running hydraulic simulation...\")\n",
    "results = simulator.run_simulation(inp_file, duration_hours=24, report_time_step=1)\n",
    "\n",
    "if results:\n",
    "    print(\"\\nSimulation completed successfully.\")\n",
    "    \n",
    "    # Get simulation statistics\n",
    "    stats = simulator.get_result_stats(results)\n",
    "    \n",
    "    print(\"\\nSimulation Statistics:\")\n",
    "    print(f\"- Duration: {stats['duration_hours']} hours\")\n",
    "    \n",
    "    print(\"\\nPressure (m):\")\n",
    "    print(f\"- Min: {stats['pressure']['min']:.2f}\")\n",
    "    print(f\"- Max: {stats['pressure']['max']:.2f}\")\n",
    "    print(f\"- Avg: {stats['pressure']['avg']:.2f}\")\n",
    "    \n",
    "    print(\"\\nFlow (m³/s):\")\n",
    "    print(f\"- Min: {stats['flow']['min']:.4f}\")\n",
    "    print(f\"- Max: {stats['flow']['max']:.4f}\")\n",
    "    print(f\"- Avg: {stats['flow']['avg']:.4f}\")\n",
    "    \n",
    "    print(\"\\nVelocity (m/s):\")\n",
    "    print(f\"- Min: {stats['velocity']['min']:.2f}\")\n",
    "    print(f\"- Max: {stats['velocity']['max']:.2f}\")\n",
    "    print(f\"- Avg: {stats['velocity']['avg']:.2f}\")\n",
    "    \n",
    "    # Save results\n",
    "    results_file = \"data/output/simulation_results.json\"\n",
    "    simulator.save_results(results, results_file)\n",
    "    print(f\"\\nSimulation results saved to {results_file}\")"
   ]
  },
  {
   "cell_type": "markdown",
   "metadata": {},
   "source": [
    "### 6.1 Visualizing Time Series Simulation Results"
   ]
  },
  {
   "cell_type": "code",
   "execution_count": null,
   "metadata": {},
   "outputs": [],
   "source": [
    "# Plot pressure and flow time series for selected nodes and pipes\n",
    "if results:\n",
    "    # Get time steps\n",
    "    time_steps = results['time_steps']\n",
    "    \n",
    "    # Select a few junctions and pipes to plot\n",
    "    junction_ids = list(results['nodes']['pressure'].keys())[:5]  # First 5 junctions\n",
    "    pipe_ids = list(results['links']['flow'].keys())[:5]  # First 5 pipes\n",
    "    \n",
    "    # Create pressure plot\n",
    "    plt.figure(figsize=(12, 6))\n",
    "    \n",
    "    for junction_id in junction_ids:\n",
    "        pressures = results['nodes']['pressure'][junction_id]\n",
    "        plt.plot(time_steps, pressures, marker='o', label=f\"Junction {junction_id}\")\n",
    "    \n",
    "    plt.title(\"Junction Pressures Over Time\")\n",
    "    plt.xlabel(\"Time (hours)\")\n",
    "    plt.ylabel(\"Pressure (m)\")\n",
    "    plt.legend()\n",
    "    plt.grid(True)\n",
    "    plt.xticks(rotation=45)\n",
    "    plt.tight_layout()\n",
    "    plt.show()\n",
    "    \n",
    "    # Create flow plot\n",
    "    plt.figure(figsize=(12, 6))\n",
    "    \n",
    "    for pipe_id in pipe_ids:\n",
    "        flows = [abs(flow) for flow in results['links']['flow'][pipe_id]]  # Use absolute values\n",
    "        plt.plot(time_steps, flows, marker='o', label=f\"Pipe {pipe_id}\")\n",
    "    \n",
    "    plt.title(\"Pipe Flow Rates Over Time\")\n",
    "    plt.xlabel(\"Time (hours)\")\n",
    "    plt.ylabel(\"Flow Rate (m³/s)\")\n",
    "    plt.legend()\n",
    "    plt.grid(True)\n",
    "    plt.xticks(rotation=45)\n",
    "    plt.tight_layout()\n",
    "    plt.show()"
   ]
  },
  {
   "cell_type": "markdown",
   "metadata": {},
   "source": [
    "## 7. Visualization\n",
    "\n",
    "Finally, let's create visualizations for our water distribution model and simulation results:"
   ]
  },
  {
   "cell_type": "code",
   "execution_count": null,
   "metadata": {},
   "outputs": [],
   "source": [
    "# Import the NetworkVisualizer class\n",
    "from src.visualization import NetworkVisualizer\n",
    "\n",
    "# Create an instance of the NetworkVisualizer\n",
    "visualizer = NetworkVisualizer()\n",
    "\n",
    "# Path to INP file and results file\n",
    "inp_file = \"data/output/madison_network.inp\"\n",
    "results_file = \"data/output/simulation_results.json\"\n",
    "\n",
    "# Create GeoJSON representation of the network\n",
    "print(\"Creating GeoJSON representation of the network...\")\n",
    "network_geojson = visualizer.get_network_geojson(inp_file)\n",
    "\n",
    "if network_geojson:\n",
    "    print(\"\\nGeoJSON representation created successfully.\")\n",
    "    print(f\"- Nodes: {len(network_geojson['nodes']['features'])} features\")\n",
    "    print(f\"- Links: {len(network_geojson['links']['features'])} features\")\n",
    "    \n",
    "    # Create network statistics charts\n",
    "    charts = visualizer.create_network_stats_charts(inp_file)\n",
    "    \n",
    "    if charts:\n",
    "        print(\"\\nNetwork statistics charts created successfully.\")\n",
    "        \n",
    "        # Display diameter distribution chart data\n",
    "        print(\"\\nPipe Diameter Distribution:\")\n",
    "        for i, label in enumerate(charts['diameter_distribution']['labels']):\n",
    "            count = charts['diameter_distribution']['datasets'][0]['data'][i]\n",
    "            print(f\"- {label} mm: {count} pipes\")"
   ]
  },
  {
   "cell_type": "markdown",
   "metadata": {},
   "source": [
    "### 7.1 Creating Results Visualization"
   ]
  },
  {
   "cell_type": "code",
   "execution_count": null,
   "metadata": {},
   "outputs": [],
   "source": [
    "# Create results visualization\n",
    "print(\"Creating results visualization...\")\n",
    "visualization_data = visualizer.create_results_visualization(\n",
    "    inp_file, \n",
    "    results_file, \n",
    "    output_file=\"data/output/visualization_data.json\"\n",
    ")\n",
    "\n",
    "if visualization_data:\n",
    "    print(\"\\nResults visualization created successfully.\")\n",
    "    \n",
    "    # Create results charts\n",
    "    results_charts = visualizer.create_results_charts(results_file)\n",
    "    \n",
    "    if results_charts:\n",
    "        print(\"\\nResults charts created successfully.\")"
   ]
  },
  {
   "cell_type": "markdown",
   "metadata": {},
   "source": [
    "### 7.2 Visualizing the Network on a Map (Optional - Requires folium)"
   ]
  },
  {
   "cell_type": "code",
   "execution_count": null,
   "metadata": {},
   "outputs": [],
   "source": [
    "# install folium if you want to visualize the network on a map\n",
    "\n",
    "# try:\n",
    "#     import folium\n",
    "#     \n",
    "#     # Create a map centered on Madison, WI\n",
    "#     m = folium.Map(location=[43.0731, -89.4012], zoom_start=12)\n",
    "#     \n",
    "#     # Add nodes to the map\n",
    "#     for feature in network_geojson['nodes']['features']:\n",
    "#         coords = feature['geometry']['coordinates']\n",
    "#         node_type = feature['properties'].get('type', 'unknown')\n",
    "#         \n",
    "#         # Set color based on node type\n",
    "#         if node_type == 'junction':\n",
    "#             color = 'blue'\n",
    "#         elif node_type == 'reservoir':\n",
    "#             color = 'red'\n",
    "#         elif node_type == 'tank':\n",
    "#             color = 'green'\n",
    "#         else:\n",
    "#             color = 'gray'\n",
    "#         \n",
    "#         folium.CircleMarker(\n",
    "#             location=[coords[1], coords[0]],\n",
    "#             radius=3,\n",
    "#             color=color,\n",
    "#             fill=True,\n",
    "#             fill_opacity=0.7,\n",
    "#             popup=feature['properties'].get('id', 'Unknown')\n",
    "#         ).add_to(m)\n",
    "#     \n",
    "#     # Add pipes to the map\n",
    "#     for feature in network_geojson['links']['features']:\n",
    "#         coords = feature['geometry']['coordinates']\n",
    "#         \n",
    "#         # Convert coordinates format\n",
    "#         line_coords = [[coord[1], coord[0]] for coord in coords]\n",
    "#         \n",
    "#         # Add line to map\n",
    "#         folium.PolyLine(\n",
    "#             line_coords,\n",
    "#             color='black',\n",
    "#             weight=2,\n",
    "#             opacity=0.7,\n",
    "#             popup=feature['properties'].get('id', 'Unknown')\n",
    "#         ).add_to(m)\n",
    "#     \n",
    "#     # Display the map\n",
    "#     display(m)\n",
    "#     \n",
    "# except ImportError:\n",
    "#     print(\"Folium package not installed. Skip map visualization.\")"
   ]
  },
  {
   "cell_type": "markdown",
   "metadata": {},
   "source": [
    "## 8. Complete Pipeline and Summary\n",
    "\n",
    "Let's run the complete pipeline from data collection to visualization:"
   ]
  },
  {
   "cell_type": "code",
   "execution_count": null,
   "metadata": {},
   "outputs": [],
   "source": [
    "# Create directories\n",
    "for directory in [\"data/raw\", \"data/processed\", \"data/output\", \"epanet\"]:\n",
    "    Path(directory).mkdir(parents=True, exist_ok=True)\n",
    "\n",
    "print(\"Starting complete water distribution modeling pipeline...\")\n",
    "\n",
    "# Step 1: Collect data\n",
    "print(\"\\n[Step 1] Collecting data...\")\n",
    "collector = DataCollector()\n",
    "all_data = collector.fetch_all_data()\n",
    "\n",
    "# Step 2: Process data\n",
    "print(\"\\n[Step 2] Processing data...\")\n",
    "processor = DataProcessor()\n",
    "downtown_madison = (-89.3837, 43.0731)  # Longitude, Latitude\n",
    "subset_area = processor.create_subset_area(downtown_madison, radius_km=3.0)\n",
    "processed_data = processor.process_all_data(subset_area)\n",
    "\n",
    "# Step 3: Set up EPANET\n",
    "print(\"\\n[Step 3] Setting up EPANET...\")\n",
    "setup_epanet()\n",
    "\n",
    "# Step 4: Build network model\n",
    "print(\"\\n[Step 4] Building network model...\")\n",
    "builder = NetworkBuilder()\n",
    "mains_file = \"data/processed/processed_water_mains.geojson\"\n",
    "hydrants_file = \"data/processed/processed_hydrants.geojson\"\n",
    "pressure_zones_file = \"data/processed/processed_pressure_zones.geojson\"\n",
    "network_model = builder.build_from_gis(mains_file, hydrants_file, pressure_zones_file)\n",
    "\n",
    "# Step 5: Run simulation\n",
    "print(\"\\n[Step 5] Running hydraulic simulation...\")\n",
    "simulator = EPANETSimulator()\n",
    "inp_file = \"data/output/madison_network.inp\"\n",
    "results = simulator.run_simulation(inp_file)\n",
    "\n",
    "# Step 6: Create visualizations\n",
    "print(\"\\n[Step 6] Creating visualizations...\")\n",
    "visualizer = NetworkVisualizer()\n",
    "results_file = \"data/output/simulation_results.json\"\n",
    "visualization_data = visualizer.create_results_visualization(\n",
    "    inp_file, \n",
    "    results_file, \n",
    "    output_file=\"data/output/visualization_data.json\"\n",
    ")\n",
    "\n",
    "print(\"\\nWater distribution modeling pipeline complete!\")"
   ]
  },
  {
   "cell_type": "markdown",
   "metadata": {},
   "source": [
    "## 9. Conclusion\n",
    "\n",
    "In this notebook, we've completed the entire workflow for water distribution modeling:\n",
    "\n",
    "1. **Data Collection**: Gathered water infrastructure GIS data, USGS water data, EPA water quality data, and elevation data.\n",
    "2. **Data Processing**: Cleaned and prepared the data for modeling, including network topology creation.\n",
    "3. **EPANET Setup**: Set up the EPANET hydraulic simulation engine.\n",
    "4. **Network Modeling**: Built a complete water distribution network model from GIS data.\n",
    "5. **Hydraulic Simulation**: Ran simulations to analyze water flow, pressure, and other parameters.\n",
    "6. **Visualization**: Created visualizations of the network and simulation results.\n",
    "\n",
    "The processed data and simulation results are available in the `data/processed` and `data/output` directories, respectively. These can be used for further analysis or integration with other systems.\n",
    "\n",
    "### Next Steps and Potential Extensions\n",
    "\n",
    "- **Water Quality Modeling**: Add water quality parameters to simulate chlorine decay or contaminant transport.\n",
    "- **Scenario Analysis**: Explore different operational scenarios or emergency situations.\n",
    "- **Real-time Integration**: Connect the model to SCADA or IoT sensor data for real-time monitoring.\n",
    "- **Optimization**: Implement algorithms to optimize pump operations or water source blending.\n",
    "- **Web Interface**: Develop a web-based dashboard for interactive exploration of the model and results."
   ]
  }
 ],
 "metadata": {
  "kernelspec": {
   "display_name": "venv",
   "language": "python",
   "name": "python3"
  },
  "language_info": {
   "codemirror_mode": {
    "name": "ipython",
    "version": 3
   },
   "file_extension": ".py",
   "mimetype": "text/x-python",
   "name": "python",
   "nbconvert_exporter": "python",
   "pygments_lexer": "ipython3",
   "version": "3.12.3"
  }
 },
 "nbformat": 4,
 "nbformat_minor": 4
}
